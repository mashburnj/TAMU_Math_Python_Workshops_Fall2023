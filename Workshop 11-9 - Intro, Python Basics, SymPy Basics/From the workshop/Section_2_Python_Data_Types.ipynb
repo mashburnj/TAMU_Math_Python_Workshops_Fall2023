{
  "cells": [
    {
      "cell_type": "markdown",
      "id": "5bf00ae8",
      "metadata": {
        "id": "5bf00ae8"
      },
      "source": [
        "# Section 2 - Python Data Types\n",
        "\n",
        "Objectives:\n",
        "- Output\n",
        "- Common data types in basic Python"
      ]
    },
    {
      "cell_type": "markdown",
      "id": "2909fa65",
      "metadata": {
        "id": "2909fa65"
      },
      "source": [
        "## 2.1 Output\n",
        "\n",
        "The **print** command is your go-to for outputting any numbers or text to the screen. It can output one thing at a time, or multiple things at once, separated by commas:"
      ]
    },
    {
      "cell_type": "code",
      "execution_count": null,
      "id": "61fdf00a",
      "metadata": {
        "colab": {
          "base_uri": "https://localhost:8080/"
        },
        "id": "61fdf00a",
        "outputId": "6d38067d-9464-43c3-c4b5-83cd2d0738a6"
      },
      "outputs": [
        {
          "output_type": "stream",
          "name": "stdout",
          "text": [
            "12\n",
            "x squared is 144\n"
          ]
        },
        {
          "output_type": "execute_result",
          "data": {
            "text/plain": [
              "144"
            ]
          },
          "metadata": {},
          "execution_count": 1
        }
      ],
      "source": [
        "x = 12\n",
        "print(x)\n",
        "print('x squared is',x**2)\n",
        "x**2"
      ]
    },
    {
      "cell_type": "markdown",
      "id": "77ce78f5",
      "metadata": {
        "id": "77ce78f5"
      },
      "source": [
        "Notice that last line output 144 to the screen without the \"print\" command. Whenever the last line of code performs a calculation and the result isn't stored anywhere, Python will just output it to the screen. I use this often with SymPy, as it allows expressions to be output in a nice formatting, whereas print does not. See this output, for example:"
      ]
    },
    {
      "cell_type": "code",
      "execution_count": null,
      "id": "2b653532",
      "metadata": {
        "colab": {
          "base_uri": "https://localhost:8080/",
          "height": 72
        },
        "id": "2b653532",
        "outputId": "d098c5de-b302-40f2-fdeb-ce385e8f656f"
      },
      "outputs": [
        {
          "output_type": "stream",
          "name": "stdout",
          "text": [
            "x**2/3\n"
          ]
        },
        {
          "output_type": "execute_result",
          "data": {
            "text/plain": [
              "x**2/3"
            ],
            "text/latex": "$\\displaystyle \\frac{x^{2}}{3}$"
          },
          "metadata": {},
          "execution_count": 2
        }
      ],
      "source": [
        "import sympy as sp\n",
        "x = sp.symbols('x')\n",
        "print(x**2 / 3) # Outputs expression in plain text. Not as readable.\n",
        "x**2 / 3"
      ]
    },
    {
      "cell_type": "markdown",
      "id": "710a7d41",
      "metadata": {
        "id": "710a7d41"
      },
      "source": [
        "## 2.2 Numerical Data Types\n",
        "\n",
        "Unlinke C, Java, etc., you do NOT have to specify a data type when creating a numerical variable- Python will infer based on input, though you don't always have to rely on that.\n",
        "\n",
        "For more information on all data types mentioned in this notebook and much more, see https://docs.python.org/3/library/stdtypes.html\n",
        "\n",
        "### int (Integers) and float (Floating Point Numbers)\n",
        "\n",
        "- Basic numerical data types. They hold a single number.\n",
        "- int = integer.\n",
        "- float = decimal number. The largest it can hold is ~$1.8*10^{308}$. Anything larger will be stored as \"inf\"\n",
        "\n",
        "Integers can be written as floats by putting a decimal at the end."
      ]
    },
    {
      "cell_type": "code",
      "execution_count": null,
      "id": "f5d4f28d",
      "metadata": {
        "colab": {
          "base_uri": "https://localhost:8080/"
        },
        "id": "f5d4f28d",
        "outputId": "bfbe352e-931d-4562-fe80-32c173a77803"
      },
      "outputs": [
        {
          "output_type": "stream",
          "name": "stdout",
          "text": [
            "12 12.0\n",
            "inf -inf\n"
          ]
        }
      ],
      "source": [
        "a = 12 # int\n",
        "b = 12. # float\n",
        "print(a, b)\n",
        "\n",
        "c = 1.82*10**308 # too large\n",
        "d = -1.82*10**308 # too negative\n",
        "print(c,d)"
      ]
    },
    {
      "cell_type": "markdown",
      "id": "ec52c9a4",
      "metadata": {
        "id": "ec52c9a4"
      },
      "source": [
        "To check a variable's data type (useful for SymPy), use the **type()** command:"
      ]
    },
    {
      "cell_type": "code",
      "execution_count": null,
      "id": "d942badb",
      "metadata": {
        "colab": {
          "base_uri": "https://localhost:8080/"
        },
        "id": "d942badb",
        "outputId": "9716f48f-0735-4d67-9214-4cf4a07488d8"
      },
      "outputs": [
        {
          "output_type": "stream",
          "name": "stdout",
          "text": [
            "<class 'int'>\n",
            "<class 'float'>\n"
          ]
        }
      ],
      "source": [
        "print(type(a))\n",
        "print(type(b))"
      ]
    },
    {
      "cell_type": "markdown",
      "id": "0c4a4cc5",
      "metadata": {
        "id": "0c4a4cc5"
      },
      "source": [
        "#### Operations on int and float\n",
        "\n",
        "- **Assignment**: = (assign right-hand side to the variable named in the left-hand side)\n",
        "- **Addition**: +\n",
        "- **Subtraction**: -\n",
        "- **Negative**: Don't need to define a negative by \"0 - x\". Just put \"-x\"\n",
        "- **Multiplication**: *\n",
        "- **Standard Division**: /\n",
        "- **Floor Division**: // (returns the integer divisor, ignores remainder)\n",
        "- **Modulus**: %\n",
        "- **Power**: ** (two stars, NOT the caret symbol ^. This is different from most other languages!)\n",
        "- **Power**: pow(x,y) (same as the above, just written differently)\n",
        "- **Absolute Value**: abs(x)\n",
        "\n",
        "Arithmetic operations behave as we expect, for the most part.\n",
        "\n",
        "For example, int + int = int, while int + float = float. Division by 0 will stop your script and give you an error message.\n",
        "\n",
        "Some caveats:\n",
        "- int / int = float, even if the result is an integer.\n",
        "- inf - inf = inf (as opposed to undefined. See the below example)"
      ]
    },
    {
      "cell_type": "code",
      "execution_count": null,
      "id": "666aab38",
      "metadata": {
        "colab": {
          "base_uri": "https://localhost:8080/"
        },
        "id": "666aab38",
        "outputId": "d6850cee-6078-4742-d8f3-d58424145bce"
      },
      "outputs": [
        {
          "output_type": "execute_result",
          "data": {
            "text/plain": [
              "inf"
            ]
          },
          "metadata": {},
          "execution_count": 10
        }
      ],
      "source": [
        "c-d # infinity - infinity = +infinity?"
      ]
    },
    {
      "cell_type": "markdown",
      "id": "6f780d33",
      "metadata": {
        "id": "6f780d33"
      },
      "source": [
        "#### The math package\n",
        "\n",
        "This provides a wider variety of operations to be applied to ints and floats than basic Python can do. Some examples:\n",
        "- **math.floor(x)** = x rounded down, returns an int\n",
        "- **math.ceil(x)** = x rounded up, returns an int\n",
        "- **math.round(x)** = x rounded to the nearest int\n",
        "- **math.round(x,n)** = x rounded to n decimal places, returns a float"
      ]
    },
    {
      "cell_type": "markdown",
      "id": "b5873ea2",
      "metadata": {
        "id": "b5873ea2"
      },
      "source": [
        "### Booleans\n",
        "\n",
        "- Bit-sized data type. Can only hold a 0 (False) or 1 (True)\n",
        "- Output from logical tests\n",
        "\n",
        "#### Logical tests\n",
        "\n",
        "- **Equal to**: x == y\n",
        "- **Greater than**: x > y\n",
        "- **Greater than or equal to**: x >= y\n",
        "- **Less than**: x < y\n",
        "- **Less than or equal to**: x <= y\n",
        "- **Not Equal to**: x != y\n",
        "- And many more.\n",
        "\n",
        "#### Operations on booleans\n",
        "\n",
        "- **or**: x | y (bitwise OR of x and y)\n",
        "- **xor**: x ^ y (bitwise EXCLUSIVE OR of x and y)\n",
        "- **and**: x & y (bitwise AND of x and y)\n",
        "- **not**: ~x (bitwise NEGATION of x)\n",
        "\n",
        "Here, x and y can be booleans or logical tests that return a boolean.\n",
        "\n",
        "**Your turn**: Write a line of code that tests the statement \"$x \\geq 30$ or $x < 1$\". The variable $x$ has been defined for you, but you may change its value to test your code."
      ]
    },
    {
      "cell_type": "code",
      "execution_count": null,
      "id": "81d0d48a",
      "metadata": {
        "colab": {
          "base_uri": "https://localhost:8080/"
        },
        "id": "81d0d48a",
        "outputId": "549913be-8c3a-4397-ad80-47c4c18956ea"
      },
      "outputs": [
        {
          "output_type": "execute_result",
          "data": {
            "text/plain": [
              "False"
            ]
          },
          "metadata": {},
          "execution_count": 14
        }
      ],
      "source": [
        "x = 21\n",
        "\n",
        "x >= 30 or x < 1"
      ]
    },
    {
      "cell_type": "markdown",
      "id": "e6244a77",
      "metadata": {
        "id": "e6244a77"
      },
      "source": [
        "####  (Optional) Bitwise operations on binary numbers\n",
        "\n",
        "Booleans are just 1-digit binary numbers. OR, XOR, AND, and NOT all have natural extensions to binary numbers of the same length. In addition, we have\n",
        "- **Bitshift left by n places**: x << n\n",
        "- **Bitshift right by n places**: x << n\n",
        "\n",
        "All of these can be directly applied to integer numbers- under the hood, the computer sees them as binary numbers anyway.\n",
        "\n",
        "**(Optional) Your turn:** First, bitshift the number 255 to the right by 2 places. Then in the second cell, compute the bitwise AND of 50 and 53."
      ]
    },
    {
      "cell_type": "code",
      "execution_count": null,
      "id": "05ead024",
      "metadata": {
        "id": "05ead024"
      },
      "outputs": [],
      "source": []
    },
    {
      "cell_type": "code",
      "execution_count": null,
      "id": "fce488e9",
      "metadata": {
        "id": "fce488e9"
      },
      "outputs": [],
      "source": []
    },
    {
      "cell_type": "markdown",
      "id": "977fecb2",
      "metadata": {
        "id": "977fecb2"
      },
      "source": [
        "## 2.3 Sequence Data Types\n",
        "\n",
        "Three basic sequence types: lists, tuples, and ranges. More advanced sequence types, such as text strings, are built on these types.\n",
        "\n",
        "Technical note: you'll see the word \"**iterable**\" in Python documentation and in some error messages. This is a category including all data types that can be iterated over (like in a for loop). Sequence data types are all iterables.\n",
        "\n",
        "- **list**: changeable sequence of data entries, allows for collections of different data types, though this can decrease speed of operations on the list.\n",
        "- **tuple**: immutable sequences of data, usually heterogeneous data\n",
        "- **range**: Looks like a list, but is also immutable. Lists integer numbers $A\\leq x < B$, or $A + n*i$ where $i$ is an integer step. Used for looping mostly, as it can only hold integers."
      ]
    },
    {
      "cell_type": "code",
      "execution_count": null,
      "id": "bfb7d25d",
      "metadata": {
        "id": "bfb7d25d"
      },
      "outputs": [],
      "source": [
        "listA = [1, 2, 3] # Lists are in SQUARE BRACKETS\n",
        "tupleA = (1, 2, 3) # Tuples are in PARENTHESIS\n",
        "rangeA = range(1,4) # all integers 1 <= x < 4"
      ]
    },
    {
      "cell_type": "markdown",
      "id": "371c185b",
      "metadata": {
        "id": "371c185b"
      },
      "source": [
        "### Common Operations on Sequence Data Types\n",
        "\n",
        "Let **s** be a sequence data type. Then we can do...\n",
        "\n",
        "- **x in s** (Set inclusion, returns a Boolean)\n",
        "- **x not in s** (Set exclusion, returns a Boolean)\n",
        "- **s + t** (Concatenation of two sequence data types)\n",
        "- **s * n** (Self-concatenation n times. **n * s** will also work)\n",
        "- **len(s)** (Length of s)\n",
        "- **min(s)** (Minimum of s. Can fail if mixed data types are not comparable.)\n",
        "- **max(s)** (Maximum of s. Can fail if mixed data types are not comparable.)"
      ]
    },
    {
      "cell_type": "markdown",
      "id": "c2e7fbf8",
      "metadata": {
        "id": "c2e7fbf8"
      },
      "source": [
        "### Indexing and Slicing\n",
        "\n",
        "You can retrieve an entry from such a data type by referring to the entry's *index* using square brackets. **In Python, the first entry is at index 0**.\n",
        "\n",
        "- **s[i]** gives the *i*th item\n",
        "- **s[i:j]** gives a new sequence (of the same data type) containing entries *i* through *j* (not including the *j*th entry). This is called *slicing*.\n",
        "- **s[i:j:k]** gives a slice containing entries *i*, *i+k*, *i+2k*, ..., through *j* (not including the *j*th entry even if *j=i+nk* for some *n*).\n",
        "- You can let *j = -n* if you want to tell Python to slice from *i* to *n* entries before the end.\n",
        "- **s[i:]** gives a slice containing all entries from *i* through the end of the sequence\n",
        "- **s[:i]** gives a slice containing all entries from the beginning of the sequence to *i* (excluding the *i*th entry)"
      ]
    },
    {
      "cell_type": "markdown",
      "id": "6588bde6",
      "metadata": {
        "id": "6588bde6"
      },
      "source": [
        "**Your Turn:** I've created a list X containing a handful of numbers. Write a line of code that returns the 4th entry (by Python counting) through the second to last entry (including that entry)."
      ]
    },
    {
      "cell_type": "code",
      "execution_count": null,
      "id": "719f5eb2",
      "metadata": {
        "colab": {
          "base_uri": "https://localhost:8080/"
        },
        "id": "719f5eb2",
        "outputId": "6e1903a0-7b47-4df9-d4bb-b4f2a36ead62"
      },
      "outputs": [
        {
          "output_type": "execute_result",
          "data": {
            "text/plain": [
              "[4,\n",
              " 5,\n",
              " 6,\n",
              " 7,\n",
              " 8,\n",
              " 9,\n",
              " 10,\n",
              " 11,\n",
              " 12,\n",
              " 13,\n",
              " 14,\n",
              " 15,\n",
              " 16,\n",
              " 17,\n",
              " 18,\n",
              " 19,\n",
              " 20,\n",
              " 21,\n",
              " 22,\n",
              " 23,\n",
              " 24,\n",
              " 25,\n",
              " 26,\n",
              " 27,\n",
              " 28,\n",
              " 29,\n",
              " 30,\n",
              " 31,\n",
              " 32,\n",
              " 33,\n",
              " 34,\n",
              " 35,\n",
              " 36,\n",
              " 37,\n",
              " 38,\n",
              " 39,\n",
              " 40,\n",
              " 41,\n",
              " 42,\n",
              " 43,\n",
              " 44,\n",
              " 45,\n",
              " 46,\n",
              " 47,\n",
              " 48,\n",
              " 49,\n",
              " 50,\n",
              " 51,\n",
              " 52,\n",
              " 53,\n",
              " 54,\n",
              " 55,\n",
              " 56,\n",
              " 57,\n",
              " 58,\n",
              " 59,\n",
              " 60,\n",
              " 61,\n",
              " 62,\n",
              " 63,\n",
              " 64,\n",
              " 65,\n",
              " 66,\n",
              " 67,\n",
              " 68,\n",
              " 69,\n",
              " 70,\n",
              " 71,\n",
              " 72,\n",
              " 73,\n",
              " 74,\n",
              " 75,\n",
              " 76,\n",
              " 77,\n",
              " 78,\n",
              " 79,\n",
              " 80,\n",
              " 81,\n",
              " 82,\n",
              " 83,\n",
              " 84,\n",
              " 85,\n",
              " 86,\n",
              " 87,\n",
              " 88,\n",
              " 89,\n",
              " 90,\n",
              " 91,\n",
              " 92,\n",
              " 93,\n",
              " 94,\n",
              " 95,\n",
              " 96,\n",
              " 97,\n",
              " 98]"
            ]
          },
          "metadata": {},
          "execution_count": 15
        }
      ],
      "source": [
        "X = [x for x in range(0,100)] # We'll talk about this line of code in a bit.\n",
        "\n",
        "X[4:-1]"
      ]
    },
    {
      "cell_type": "markdown",
      "id": "a09ac6d2",
      "metadata": {
        "id": "a09ac6d2"
      },
      "source": [
        "### (Optional) Ranges\n",
        "\n",
        "Typically used as a quick number list for a loop. They are NOT changeable. Here is how you create one:"
      ]
    },
    {
      "cell_type": "code",
      "execution_count": null,
      "id": "92952f38",
      "metadata": {
        "colab": {
          "base_uri": "https://localhost:8080/"
        },
        "id": "92952f38",
        "outputId": "304c7f29-bbd7-4b84-d63d-c7ee4722faff"
      },
      "outputs": [
        {
          "output_type": "execute_result",
          "data": {
            "text/plain": [
              "[0, 2, 4, 6, 8]"
            ]
          },
          "metadata": {},
          "execution_count": 19
        }
      ],
      "source": [
        "# range(start, end, step_size)\n",
        "samplerange = list(range(0,10,2))   # all even integers 0 <= x < 10.\n",
        "samplerange"
      ]
    },
    {
      "cell_type": "markdown",
      "id": "d19dc724",
      "metadata": {
        "id": "d19dc724"
      },
      "source": [
        "### (Optional) Tuples\n",
        "\n",
        "Also not changeable. Can be different data types. Several ways to create one:"
      ]
    },
    {
      "cell_type": "code",
      "execution_count": null,
      "id": "83d8707c",
      "metadata": {
        "id": "83d8707c"
      },
      "outputs": [],
      "source": [
        "emptytuple = ()\n",
        "sampletuple1 = 1, 2, 3 # The first two are the same\n",
        "sampletuple1 = (1, 2, 3)\n",
        "singletontuple = 1, # shortcut for a singleton tuple\n",
        "singletontuple = (1,)\n",
        "sampletuple1 = tuple([1, 2, 3]) # use \"tuple()\" to make a tuple out of any iterable"
      ]
    },
    {
      "cell_type": "markdown",
      "id": "1411fb38",
      "metadata": {
        "id": "1411fb38"
      },
      "source": [
        "Not too much to say about these for now, except print statements will take a  tuple of text strings and variables and output them in order, with spaces inserted for you:"
      ]
    },
    {
      "cell_type": "code",
      "execution_count": null,
      "id": "e348aebc",
      "metadata": {
        "id": "e348aebc"
      },
      "outputs": [],
      "source": [
        "print('The tuple', sampletuple1, 'is pretty boring.')"
      ]
    },
    {
      "cell_type": "markdown",
      "id": "3be3cc4a",
      "metadata": {
        "id": "3be3cc4a"
      },
      "source": [
        "### Lists\n",
        "\n",
        "The most important sequence data type. They're changeable, sliceable, have more features than tuples or ranges, and there are many ways to create one:"
      ]
    },
    {
      "cell_type": "code",
      "execution_count": null,
      "id": "f6b4cd47",
      "metadata": {
        "id": "f6b4cd47"
      },
      "outputs": [],
      "source": [
        "emptylist = []\n",
        "\n",
        "listA = [1, 2, 3]\n",
        "listA = list((1, 2, 3)) # use \"list()\" to make a list out of any iterable"
      ]
    },
    {
      "cell_type": "markdown",
      "id": "b6ca210a",
      "metadata": {
        "id": "b6ca210a"
      },
      "source": [
        "### List Comprehension\n",
        "\n",
        "The most important means of creating a list. The basic idea is: for each entry in some iterable data type (usually a range or another list), perform some operations to it, then save the result to the same index position in a new list. The syntax looks like:\n",
        "\n",
        "newlist = \\[ new_entry_depending_on_x **for** x **in** some_iterable\\]\n",
        "\n",
        "Many SymPy exercises the department has assigned require the use of list comprehension.\n",
        "\n",
        "**Your turn**: Use list comprehension to compute $x^2 - 4$ for all $x = \\{0, 1, 2, 3, 4\\}$. I've set up X as a range for you."
      ]
    },
    {
      "cell_type": "code",
      "execution_count": null,
      "id": "d9332d2f",
      "metadata": {
        "colab": {
          "base_uri": "https://localhost:8080/"
        },
        "id": "d9332d2f",
        "outputId": "4b6d2fb8-e748-47b9-9716-1bf3b2cfa9a1"
      },
      "outputs": [
        {
          "output_type": "execute_result",
          "data": {
            "text/plain": [
              "[-4, -3, 0, 5, 12]"
            ]
          },
          "metadata": {},
          "execution_count": 20
        }
      ],
      "source": [
        "X = range(0,5)\n",
        "\n",
        "outputs = [x**2 - 4 for x in X]\n",
        "outputs"
      ]
    },
    {
      "cell_type": "markdown",
      "id": "7592c960",
      "metadata": {
        "id": "7592c960"
      },
      "source": [
        "### Features of Lists\n",
        "\n",
        "- **listname[i] = x** Replaces the entry at index *i* with *x*\n",
        "- **listname[i:j] = x** Replaces all entries from *i* to *j-1* with *x*\n",
        "- **listname.append(x)** Appends *x* to the end of the list as a new entry\n",
        "- **listname.extend(secondlist)** List concatenation. Appends secondlist's entries to the end of the list\n",
        "- **listname.remove(x)** removes the first entry from the list that is equal to x\n",
        "- **del listname[i:j]** deletes multiple entries from the list\n",
        "\n",
        "Some more neat features:\n",
        "- **sort(listname)** will sort the list according to the relation <, however it's defined for the data type. Caution: this modifies the original list, so make a copy if you need to keep the original ordering for something else. Will fail if mixed data types are not comparable, and depending on how far the sort got, will leave the list in a partially-sorted state.\n",
        "- **sum(listname)** will add up all terms of the list (in index order) according to the binary operation +, however it's defined for the data types involved. If the data types can't be added together, it will fail."
      ]
    },
    {
      "cell_type": "markdown",
      "id": "064ba5e3",
      "metadata": {
        "id": "064ba5e3"
      },
      "source": [
        "### (Optional) Strings\n",
        "\n",
        "Text strings are usually written in Python with single OR double-quotation marks.\n",
        "\n",
        "Under the hood, text strings in Python are just lists of single characters, so everything we've talked about with lists can be done to strings as well:"
      ]
    },
    {
      "cell_type": "code",
      "execution_count": null,
      "id": "4809d3f8",
      "metadata": {
        "id": "4809d3f8"
      },
      "outputs": [],
      "source": [
        "sometext = 'Here is some text. Aren\\'t I creative?'\n",
        "print(sometext[19:])\n",
        "print(sometext[0])\n",
        "print(sometext + ' Why yes I am.')"
      ]
    },
    {
      "cell_type": "markdown",
      "id": "08599c13",
      "metadata": {
        "id": "08599c13"
      },
      "source": [
        "Notice that I had to put a \" \\\\ \" before the \" ' \". Ordinarily, the \" ' \" would have ended the string, but this tells Python to interpret that as a character in the string and keep going. This is called an *escape sequence*. Other useful escape sequences include:\n",
        "- **\\n** (newline character)\n",
        "- **\\t** (tab character)\n",
        "\n",
        "Be careful when counting, as an escape sequence counts as a single character."
      ]
    },
    {
      "cell_type": "markdown",
      "id": "197a2e27",
      "metadata": {
        "id": "197a2e27"
      },
      "source": [
        "## 2.4 Set Data Types\n",
        "\n",
        "A **set** is a mathematical set, equipped with all the set operations we know and love. As you'd expect, there are no repeating elements in a set. A **frozenset** is the same thing, but you cannot change a frozenset- you can only save changes to a copy of it.\n",
        "\n",
        "There are several ways to make a set:"
      ]
    },
    {
      "cell_type": "code",
      "execution_count": null,
      "id": "a2433ea8",
      "metadata": {
        "id": "a2433ea8"
      },
      "outputs": [],
      "source": [
        "set1 = {1, 2, 3} # Notice the pattern: (tuple), [list], {set}\n",
        "set1 = set([1, 2, 2, 3]) # Use \"set\" to create a set from some other iterable\n",
        "set1 # Notice I repeated the 2 in the input, but it was eliminated during conversion."
      ]
    },
    {
      "cell_type": "markdown",
      "id": "f2df73e7",
      "metadata": {
        "id": "f2df73e7"
      },
      "source": [
        "Similarities between a set type and a sequence data type:\n",
        "- They are also iterable, meaning you can use one for a for loop\n",
        "- **len**, **in**, and **not in** all work the same way\n",
        "\n",
        "Differences:\n",
        "- They are NOT indexable nor sliceable\n",
        "- In fact, there is no order to them whatsoever\n",
        "\n",
        "Sets do have a wide variety of features that sequence data types cannot use:\n",
        "- **A.isdisjoint(B)**: are A and B disjoint? Answers with a boolean\n",
        "- **A.issubset(B)** or **A <= B**: Is A a subset of B? Answers with a boolean\n",
        "- **A < B**: similar, but tests for proper subset\n",
        "- **A.issuperset(B)** or **A >= B**: Is A a superset of B?\n",
        "- **A > B**: similar, but tests for proper superset\n",
        "- **A.union(B,C)** or **A | B | C**: computes $A\\cup B\\cup C$\n",
        "- **A.intersection(B,C)** or **A & B & C**: computes $A\\cap B\\cap C$\n",
        "- **A.difference(B,C)** or **A - B - C**: computes $A\\backslash B\\backslash C$\n",
        "- **A.symmetric_difference(B)** or **A ^ B**: computes the symmetric difference between $A$ and $B$"
      ]
    },
    {
      "cell_type": "markdown",
      "id": "1b99aa23",
      "metadata": {
        "id": "1b99aa23"
      },
      "source": [
        "## 2.5 (Optional) Mapping Data Types\n",
        "\n",
        "An unchangeable data type whose index is not the natural numbers, but almost any data type, most commonly text strings. The only basic data type in this category is the **dictionary**, or **dict**. The following all create the same dictionary:"
      ]
    },
    {
      "cell_type": "code",
      "execution_count": null,
      "id": "69a670f1",
      "metadata": {
        "id": "69a670f1"
      },
      "outputs": [],
      "source": [
        "a = dict(one=1, two=2, three=3)\n",
        "\n",
        "b = {'one': 1, 'two': 2, 'three': 3}\n",
        "\n",
        "c = dict(zip(['one', 'two', 'three'], [1, 2, 3]))\n",
        "\n",
        "d = dict([('two', 2), ('one', 1), ('three', 3)])\n",
        "\n",
        "e = dict({'three': 3, 'one': 1, 'two': 2})\n",
        "\n",
        "f = dict({'one': 1, 'three': 3}, two=2)"
      ]
    },
    {
      "cell_type": "markdown",
      "id": "202470ba",
      "metadata": {
        "id": "202470ba"
      },
      "source": [
        "Like an actual dictionary, you look up the entry using its *keyword*:"
      ]
    },
    {
      "cell_type": "code",
      "execution_count": null,
      "id": "20af5573",
      "metadata": {
        "id": "20af5573"
      },
      "outputs": [],
      "source": [
        "a['one'] # Note we use square brackets here"
      ]
    },
    {
      "cell_type": "markdown",
      "id": "cf64ed74",
      "metadata": {
        "id": "cf64ed74"
      },
      "source": [
        "If you are solving a system of multiple equations in SymPy, the output will be a dictionary whose keywords are the variables involved."
      ]
    },
    {
      "cell_type": "markdown",
      "id": "92b56817",
      "metadata": {
        "id": "92b56817"
      },
      "source": [
        "## 2.6 Troubleshooting\n",
        "\n",
        "In general, an error message has two parts: a *traceback*, or an attempt to show you exactly where the error occurred, and the *TypeError* message, which often gives a helpful description of what happened. The traceback will often go through layers of underlying code (for example, if the error occurred when using SymPy's integrate function, often it will show you the underlying code for that function), which may or may not be helpful, so if you get a long traceback, look for the part that shows YOUR code.\n",
        "\n",
        "Throughout the workshop, I'll conclude a notebook by pointing out common mistakes related to the notebook's topics.\n",
        "\n",
        "1) Data type mismatch between operations"
      ]
    },
    {
      "cell_type": "code",
      "execution_count": null,
      "id": "03f77ce1",
      "metadata": {
        "colab": {
          "base_uri": "https://localhost:8080/",
          "height": 178
        },
        "id": "03f77ce1",
        "outputId": "b565a435-5c8f-4262-b1a8-51d923839d74"
      },
      "outputs": [
        {
          "output_type": "error",
          "ename": "TypeError",
          "evalue": "ignored",
          "traceback": [
            "\u001b[0;31m---------------------------------------------------------------------------\u001b[0m",
            "\u001b[0;31mTypeError\u001b[0m                                 Traceback (most recent call last)",
            "\u001b[0;32m<ipython-input-21-81bc7372ffcd>\u001b[0m in \u001b[0;36m<cell line: 1>\u001b[0;34m()\u001b[0m\n\u001b[0;32m----> 1\u001b[0;31m \u001b[0;36m27\u001b[0m \u001b[0;34m>\u001b[0m \u001b[0;34m[\u001b[0m\u001b[0;36m1\u001b[0m\u001b[0;34m]\u001b[0m \u001b[0;31m# Can't compare an integer to a list!\u001b[0m\u001b[0;34m\u001b[0m\u001b[0;34m\u001b[0m\u001b[0m\n\u001b[0m",
            "\u001b[0;31mTypeError\u001b[0m: '>' not supported between instances of 'int' and 'list'"
          ]
        }
      ],
      "source": [
        "27 > [1] # Can't compare an integer to a list!"
      ]
    },
    {
      "cell_type": "markdown",
      "id": "1476dfb1",
      "metadata": {
        "id": "1476dfb1"
      },
      "source": [
        "2) Accessing a list/tuple/range entry that doesn't exist. (Don't forget that Python indexing begins at 0!)"
      ]
    },
    {
      "cell_type": "code",
      "execution_count": null,
      "id": "bdb6baa9",
      "metadata": {
        "colab": {
          "base_uri": "https://localhost:8080/",
          "height": 196
        },
        "id": "bdb6baa9",
        "outputId": "b0b2a96e-62d2-4d1e-e53f-a371dca9d727"
      },
      "outputs": [
        {
          "output_type": "error",
          "ename": "IndexError",
          "evalue": "ignored",
          "traceback": [
            "\u001b[0;31m---------------------------------------------------------------------------\u001b[0m",
            "\u001b[0;31mIndexError\u001b[0m                                Traceback (most recent call last)",
            "\u001b[0;32m<ipython-input-22-cf4d5a6d43e0>\u001b[0m in \u001b[0;36m<cell line: 2>\u001b[0;34m()\u001b[0m\n\u001b[1;32m      1\u001b[0m \u001b[0mlist1\u001b[0m \u001b[0;34m=\u001b[0m \u001b[0;34m[\u001b[0m\u001b[0;34m'A'\u001b[0m\u001b[0;34m,\u001b[0m \u001b[0;34m'B'\u001b[0m\u001b[0;34m,\u001b[0m \u001b[0;34m'C'\u001b[0m\u001b[0;34m]\u001b[0m \u001b[0;31m# Index only goes from 0 to 2, not 1 to 3\u001b[0m\u001b[0;34m\u001b[0m\u001b[0;34m\u001b[0m\u001b[0m\n\u001b[0;32m----> 2\u001b[0;31m \u001b[0mlist1\u001b[0m\u001b[0;34m[\u001b[0m\u001b[0;36m3\u001b[0m\u001b[0;34m]\u001b[0m\u001b[0;34m\u001b[0m\u001b[0;34m\u001b[0m\u001b[0m\n\u001b[0m",
            "\u001b[0;31mIndexError\u001b[0m: list index out of range"
          ]
        }
      ],
      "source": [
        "list1 = ['A', 'B', 'C'] # Index only goes from 0 to 2, not 1 to 3\n",
        "list1[3]"
      ]
    },
    {
      "cell_type": "markdown",
      "source": [
        "3) Mixing up parenthesis and brackets.\n",
        "\n",
        "Remember, brackets [ ] are used to input indices to retrieve elements of a sequential data type.\n",
        "\n",
        "Parenthesis are used for everything else, from mathematics, to function arguments.\n",
        "\n",
        "Using parenthesis to retrieve an entry from a list instead of brackets will give the following error. \"Not callable\" means Python tried to interpret samplelist(0) as a **function** called \"samplelist\" with input argument 0. Then it realized it's a **list**, not a function, and threw the error in response."
      ],
      "metadata": {
        "id": "lXfIw4Y3MJL6"
      },
      "id": "lXfIw4Y3MJL6"
    },
    {
      "cell_type": "code",
      "execution_count": 1,
      "id": "bd16841c",
      "metadata": {
        "id": "bd16841c",
        "colab": {
          "base_uri": "https://localhost:8080/",
          "height": 215
        },
        "outputId": "98eebc3e-fb13-4276-d92c-176cde15c62a"
      },
      "outputs": [
        {
          "output_type": "error",
          "ename": "TypeError",
          "evalue": "ignored",
          "traceback": [
            "\u001b[0;31m---------------------------------------------------------------------------\u001b[0m",
            "\u001b[0;31mTypeError\u001b[0m                                 Traceback (most recent call last)",
            "\u001b[0;32m<ipython-input-1-e8845c05e86d>\u001b[0m in \u001b[0;36m<cell line: 3>\u001b[0;34m()\u001b[0m\n\u001b[1;32m      1\u001b[0m \u001b[0msamplelist\u001b[0m \u001b[0;34m=\u001b[0m \u001b[0;34m[\u001b[0m\u001b[0;36m0\u001b[0m\u001b[0;34m,\u001b[0m \u001b[0;36m1\u001b[0m\u001b[0;34m,\u001b[0m \u001b[0;36m2\u001b[0m\u001b[0;34m,\u001b[0m \u001b[0;36m3\u001b[0m\u001b[0;34m]\u001b[0m\u001b[0;34m\u001b[0m\u001b[0;34m\u001b[0m\u001b[0m\n\u001b[1;32m      2\u001b[0m \u001b[0;34m\u001b[0m\u001b[0m\n\u001b[0;32m----> 3\u001b[0;31m \u001b[0msamplelist\u001b[0m\u001b[0;34m(\u001b[0m\u001b[0;36m0\u001b[0m\u001b[0;34m)\u001b[0m\u001b[0;34m\u001b[0m\u001b[0;34m\u001b[0m\u001b[0m\n\u001b[0m",
            "\u001b[0;31mTypeError\u001b[0m: 'list' object is not callable"
          ]
        }
      ],
      "source": [
        "samplelist = [0, 1, 2, 3]\n",
        "\n",
        "samplelist(0)"
      ]
    },
    {
      "cell_type": "code",
      "source": [],
      "metadata": {
        "id": "gRcliM-IMpju"
      },
      "id": "gRcliM-IMpju",
      "execution_count": null,
      "outputs": []
    }
  ],
  "metadata": {
    "kernelspec": {
      "display_name": "Python 3 (ipykernel)",
      "language": "python",
      "name": "python3"
    },
    "language_info": {
      "codemirror_mode": {
        "name": "ipython",
        "version": 3
      },
      "file_extension": ".py",
      "mimetype": "text/x-python",
      "name": "python",
      "nbconvert_exporter": "python",
      "pygments_lexer": "ipython3",
      "version": "3.9.18"
    },
    "colab": {
      "provenance": []
    }
  },
  "nbformat": 4,
  "nbformat_minor": 5
}