{
  "cells": [
    {
      "cell_type": "markdown",
      "id": "5bf00ae8",
      "metadata": {
        "id": "5bf00ae8"
      },
      "source": [
        "# Section 3 - Program Flow and Control\n",
        "\n",
        "Objectives:\n",
        "- If/Elif/Else statements\n",
        "- While/dowhile loops\n",
        "- For loops"
      ]
    },
    {
      "cell_type": "markdown",
      "id": "710a7d41",
      "metadata": {
        "id": "710a7d41"
      },
      "source": [
        "## 3.1 If/Elif/Else Statements\n",
        "\n",
        "if (logical_test_is_true):\n",
        "\n",
        "    do_something\n",
        "    do_something_else\n",
        "    keep_going_until_the_next_line_isn't_tabbed\n",
        "\n",
        "**Your turn**: Make an if statement block that prints the text string 'Even' if x is even. Jupyter will insert tabspaces for you after the if statement."
      ]
    },
    {
      "cell_type": "code",
      "execution_count": null,
      "id": "ef5bf1b6",
      "metadata": {
        "colab": {
          "base_uri": "https://localhost:8080/"
        },
        "id": "ef5bf1b6",
        "outputId": "a2dece5d-ca36-48a4-eda2-edb1da95c1c1"
      },
      "outputs": [
        {
          "output_type": "stream",
          "name": "stdout",
          "text": [
            "Not an integer!\n"
          ]
        }
      ],
      "source": [
        "x = 18.5\n",
        "\n",
        "if (x % 2 == 0):\n",
        "  print('Even')\n",
        "elif (x % 2 == 1):\n",
        "  print('Odd')\n",
        "else:\n",
        "  print('Not an integer!')"
      ]
    },
    {
      "cell_type": "markdown",
      "id": "b5873ea2",
      "metadata": {
        "id": "b5873ea2"
      },
      "source": [
        "If you want to check for another condition, but only if the first condition failed, you can follow up with **elif**:\n",
        "\n",
        "if (test_true):\n",
        "\n",
        "    do_something\n",
        "\n",
        "elif (second_test_true):\n",
        "\n",
        "    do_something_else\n",
        "\n",
        "**Your turn**: Add an elif block to the above that prints the string 'Odd' if x is odd."
      ]
    },
    {
      "cell_type": "markdown",
      "id": "09ba957c",
      "metadata": {
        "id": "09ba957c"
      },
      "source": [
        "You can keep chaining elif statements after that, but if you want something to happen if all if/elif tests failed, end with **else**:\n",
        "\n",
        "if (test_true):\n",
        "\n",
        "    do_something\n",
        "\n",
        "elif (second_test_true):\n",
        "\n",
        "    do_something_else\n",
        "\n",
        "else:\n",
        "\n",
        "    do_this_instead\n",
        "    \n",
        "**Your turn**: Add an else block to the above that prints the string 'Not an integer' if x is neither even nor odd. Then test with different values of x."
      ]
    },
    {
      "cell_type": "markdown",
      "id": "977fecb2",
      "metadata": {
        "id": "977fecb2"
      },
      "source": [
        "## 3.2 While Loops\n",
        "\n",
        "This loop will first check the condition given, then iterate, then recheck and repeat while the condition still holds. It's very easy to program an infinite loop with these.\n",
        "\n",
        "while (logical_test_is_true):\n",
        "\n",
        "    do_something\n",
        "    do_something_else\n",
        "    keep_going_until_the_next_line_isn't_tabbed_then_recheck_condition\n",
        "\n",
        "**Your turn**: The *Collatz conjecture* states that for any starting natural number $n$, the recursively defined sequence\n",
        "\n",
        "$a_{k+1} = \\begin{cases}\n",
        "a_{k} / 2 & \\text{ if } n \\text{ is even,} \\\\\n",
        "3a_{k} + 1 & \\text{ if } n \\text{ is odd}\n",
        "\\end{cases}$\n",
        "\n",
        "will eventually reach the number 1. Create a while loop that iterates a step of the Collatz sequence and prints the result whenever $n\\neq 1$. Feel free to try other values of $n$- just be prepared to kill the process if you go too crazy..."
      ]
    },
    {
      "cell_type": "code",
      "execution_count": null,
      "id": "874b08b2",
      "metadata": {
        "colab": {
          "base_uri": "https://localhost:8080/"
        },
        "id": "874b08b2",
        "outputId": "1927bb7a-6e81-416b-aa00-497524e567ca"
      },
      "outputs": [
        {
          "output_type": "stream",
          "name": "stdout",
          "text": [
            "58\n",
            "29.0\n",
            "88.0\n",
            "44.0\n",
            "22.0\n",
            "11.0\n",
            "34.0\n",
            "17.0\n",
            "52.0\n",
            "26.0\n",
            "13.0\n",
            "40.0\n",
            "20.0\n",
            "10.0\n",
            "5.0\n",
            "16.0\n",
            "8.0\n",
            "4.0\n",
            "2.0\n",
            "1.0\n"
          ]
        }
      ],
      "source": [
        "n = 19\n",
        "\n",
        "while (n != 1):\n",
        "  if (n % 2 == 0): # if n is even\n",
        "    n = n / 2\n",
        "  elif (n % 2 == 1): # if n is odd\n",
        "    n = 3*n + 1\n",
        "  print(n)"
      ]
    },
    {
      "cell_type": "markdown",
      "id": "4f485531",
      "metadata": {
        "id": "4f485531"
      },
      "source": [
        "## 3.3 For Loops\n",
        "\n",
        "Basic idea: for every element of a list, set, or other iterable, perform a series of tasks. The syntax looks like:\n",
        "\n",
        "for x in iterable:\n",
        "\n",
        "    do_something\n",
        "    keep_going_until_the_next_line_isn't_tabbed_then_repeat_for_next_element\n",
        "\n",
        "**Your turn**: Create a for loop that prints 2 to the power of each number in X."
      ]
    },
    {
      "cell_type": "code",
      "execution_count": null,
      "id": "6edac56e",
      "metadata": {
        "colab": {
          "base_uri": "https://localhost:8080/"
        },
        "id": "6edac56e",
        "outputId": "190b33b9-3daa-4d6d-e3f8-f15a98cda32f"
      },
      "outputs": [
        {
          "output_type": "stream",
          "name": "stdout",
          "text": [
            "1\n",
            "2\n",
            "4\n",
            "8\n",
            "16\n",
            "32\n",
            "64\n",
            "128\n",
            "256\n",
            "512\n"
          ]
        }
      ],
      "source": [
        "X = range(0,10)\n",
        "\n",
        "for x in X:\n",
        "  print(2**x)"
      ]
    },
    {
      "cell_type": "markdown",
      "id": "a09ac6d2",
      "metadata": {
        "id": "a09ac6d2"
      },
      "source": [
        "We've briefly talked about list comprehension, which is a form of for loop in which the output of each iteration must be saved to a list, with order preserved. That shorthand form of for loop was created because that exact use case is very common."
      ]
    },
    {
      "cell_type": "markdown",
      "id": "17fb1af8",
      "metadata": {
        "id": "17fb1af8"
      },
      "source": [
        "## 3.4 (Optional) Other Program Flow Commands\n",
        "\n",
        "- **break**: this will stop a while or for loop in its tracks. Often used in combination with an if statement to give an alternate way out of the loop.\n",
        "- **continue**: this will stop the current iteration of a while or for loop and continue from the beginning of the next iteration (checking the conditions first)\n",
        "\n",
        "Use them sparingly."
      ]
    },
    {
      "cell_type": "markdown",
      "id": "eefb17ef",
      "metadata": {
        "id": "eefb17ef"
      },
      "source": [
        "## 3.5 Troubleshooting\n",
        "\n",
        "1) Tabspacing issues\n",
        "\n",
        "Unlike C, Java, etc., it is *mandatory* to use tabspacing in Python! This is how Python knows where a block of code that is only meant to run if a condition is true is supposed to end and the remaining code is supposed to begin. Same goes for while and for loops. Other languages use curly braces to signify this, with no spacing standards whatsoever, but code readability is one of Python's founding design principles. See the below:"
      ]
    },
    {
      "cell_type": "code",
      "execution_count": null,
      "id": "92952f38",
      "metadata": {
        "colab": {
          "base_uri": "https://localhost:8080/"
        },
        "id": "92952f38",
        "outputId": "2f862e14-2f6a-4d99-dad1-be99bfe20ac3"
      },
      "outputs": [
        {
          "output_type": "stream",
          "name": "stdout",
          "text": [
            "-1445/243\n",
            "This is a local maximum.\n",
            "-7\n",
            "This is a local minimum.\n"
          ]
        }
      ],
      "source": [
        "import sympy as sp\n",
        "\n",
        "x = sp.symbols('x')\n",
        "\n",
        "y = 3*x**3 + 4*x**2 - 7\n",
        "\n",
        "crit = sp.solve(sp.diff(y,x), x) # Find the critical points' x-coordinates\n",
        "\n",
        "for xi in crit:\n",
        "  print(y.subs(x,xi)) # Print the respective y-value\n",
        "  if (sp.diff(y,x,2).subs(x,xi) < 0): # Second derivative test\n",
        "      print('This is a local maximum.')\n",
        "  elif (sp.diff(y,x,2).subs(x,xi) > 0):\n",
        "      print('This is a local minimum.')"
      ]
    },
    {
      "cell_type": "markdown",
      "id": "d19dc724",
      "metadata": {
        "id": "d19dc724"
      },
      "source": [
        "The for loop is meant to first print the critical y-values of the function, then perform the second derivative test. Because the if and elif statements were not given the same tabspacing as the print statement, *Python assumes these are not part of the loop*.\n",
        "\n",
        "Opposite scenario: code meant to run *after* a loop finishes instead is considered part of the loop."
      ]
    },
    {
      "cell_type": "markdown",
      "id": "1411fb38",
      "metadata": {
        "id": "1411fb38"
      },
      "source": [
        "2) Infinite loops\n",
        "\n",
        "These can be harder to spot, and often require careful tracing through the loop's logic to figure out what's going on. I can't think of a helpful example of this, so for your amusement, here's a trivial infinite loop (don't run this):"
      ]
    },
    {
      "cell_type": "code",
      "execution_count": null,
      "id": "e348aebc",
      "metadata": {
        "id": "e348aebc"
      },
      "outputs": [],
      "source": [
        "while True:\n",
        "    3"
      ]
    },
    {
      "cell_type": "markdown",
      "id": "7592c960",
      "metadata": {
        "id": "7592c960"
      },
      "source": [
        "3) Using the same placeholder variable name in a for loop as a variable that's already defined.\n",
        "\n",
        "This one's annoying because it doesn't give an error. It just overwrites the old variable, as you can see in this example. Outside of the loop, we want to do something with the symbol $x$, but can't because it was overwritten."
      ]
    },
    {
      "cell_type": "code",
      "execution_count": null,
      "id": "4809d3f8",
      "metadata": {
        "colab": {
          "base_uri": "https://localhost:8080/"
        },
        "id": "4809d3f8",
        "outputId": "82eb8275-96c7-4d76-f392-bf8a715e5cc0"
      },
      "outputs": [
        {
          "output_type": "stream",
          "name": "stdout",
          "text": [
            "0\n",
            "1\n",
            "4\n",
            "9\n",
            "16\n",
            "25\n",
            "36\n",
            "49\n",
            "64\n",
            "81\n",
            "9\n"
          ]
        }
      ],
      "source": [
        "import sympy as sp\n",
        "\n",
        "x = sp.symbols('x')\n",
        "\n",
        "xvals = range(0,10)\n",
        "\n",
        "for x in xvals:\n",
        "    print(x**2)\n",
        "\n",
        "print(x)"
      ]
    },
    {
      "cell_type": "code",
      "execution_count": null,
      "id": "69a670f1",
      "metadata": {
        "id": "69a670f1"
      },
      "outputs": [],
      "source": []
    }
  ],
  "metadata": {
    "kernelspec": {
      "display_name": "Python 3 (ipykernel)",
      "language": "python",
      "name": "python3"
    },
    "language_info": {
      "codemirror_mode": {
        "name": "ipython",
        "version": 3
      },
      "file_extension": ".py",
      "mimetype": "text/x-python",
      "name": "python",
      "nbconvert_exporter": "python",
      "pygments_lexer": "ipython3",
      "version": "3.9.18"
    },
    "colab": {
      "provenance": []
    }
  },
  "nbformat": 4,
  "nbformat_minor": 5
}