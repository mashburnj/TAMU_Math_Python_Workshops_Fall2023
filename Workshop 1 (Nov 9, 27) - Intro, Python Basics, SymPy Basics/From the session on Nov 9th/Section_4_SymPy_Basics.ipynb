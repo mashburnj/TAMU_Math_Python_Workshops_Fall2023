{
  "cells": [
    {
      "cell_type": "markdown",
      "id": "5bf00ae8",
      "metadata": {
        "id": "5bf00ae8"
      },
      "source": [
        "# Section 4 - SymPy Basics\n",
        "\n",
        "Objectives:\n",
        "- Symbolic Expressions\n",
        "- Symbolic Versions of Common Math Functions\n",
        "- Algebraic Manipulation\n",
        "- Other Symbolic Data Types\n",
        "- Solvers\n",
        "- Basic Plotting\n",
        "\n",
        "Start by running the import statement below (this must be done every time you start up Jupyter Notebook)."
      ]
    },
    {
      "cell_type": "code",
      "execution_count": null,
      "id": "e1fee498",
      "metadata": {
        "id": "e1fee498"
      },
      "outputs": [],
      "source": [
        "import sympy as sp"
      ]
    },
    {
      "cell_type": "markdown",
      "id": "710a7d41",
      "metadata": {
        "id": "710a7d41"
      },
      "source": [
        "## 4.1 Symbolic Expressions\n",
        "\n",
        "The most basic SymPy data type is the **symbol**. There are several ways you can define a symbol:"
      ]
    },
    {
      "cell_type": "code",
      "execution_count": null,
      "id": "c6fe66b8",
      "metadata": {
        "colab": {
          "base_uri": "https://localhost:8080/",
          "height": 39
        },
        "id": "c6fe66b8",
        "outputId": "b769da49-d513-4eda-86e9-6584e3272280"
      },
      "outputs": [
        {
          "output_type": "execute_result",
          "data": {
            "text/plain": [
              "theta"
            ],
            "text/latex": "$\\displaystyle \\theta$"
          },
          "metadata": {},
          "execution_count": 2
        }
      ],
      "source": [
        "x = sp.symbols('x')\n",
        "y, z = sp.symbols('y z') # For multiple variables. Notice the space inside the string instead of a comma\n",
        "\n",
        "iamasymbol = sp.symbols('iamasymbol') # You can use a whole word- it just isn't going to look good.\n",
        "\n",
        "theta = sp.symbols('theta')\n",
        "theta # With SymPy's LaTeX printing mode, the actual Greek letters get displayed instead of the words!"
      ]
    },
    {
      "cell_type": "markdown",
      "id": "b5873ea2",
      "metadata": {
        "id": "b5873ea2"
      },
      "source": [
        "Often, you'll want to restrict the domain for a variable- *by default, symbols are assumed to be complex variables*, so any time you use a solver, it will consider complex solutions unless you tell it otherwise. Here are some ways you can do so:"
      ]
    },
    {
      "cell_type": "code",
      "execution_count": null,
      "id": "1b4c8ac2",
      "metadata": {
        "id": "1b4c8ac2"
      },
      "outputs": [],
      "source": [
        "x = sp.symbols('x', real = True) # x in R\n",
        "x = sp.symbols('x', positive = True) # x in R+\n",
        "x = sp.symbols('x', integer = True) # x in Z\n",
        "x = sp.symbols('x', integer = True, positive = True) # x in N"
      ]
    },
    {
      "cell_type": "markdown",
      "id": "17f86a18",
      "metadata": {
        "id": "17f86a18"
      },
      "source": [
        "To see all assumptions about a symbolic variable, print the **assumptions0** attribute of the variable:"
      ]
    },
    {
      "cell_type": "code",
      "execution_count": null,
      "id": "9b1eccd2",
      "metadata": {
        "colab": {
          "base_uri": "https://localhost:8080/"
        },
        "id": "9b1eccd2",
        "outputId": "c52bf370-1338-4f42-a080-d94ae82da367"
      },
      "outputs": [
        {
          "output_type": "stream",
          "name": "stdout",
          "text": [
            "{'integer': True, 'commutative': True, 'finite': True, 'imaginary': False, 'complex': True, 'transcendental': False, 'infinite': False, 'noninteger': False, 'algebraic': True, 'irrational': False, 'rational': True, 'real': True, 'extended_real': True, 'hermitian': True, 'positive': True, 'extended_nonpositive': False, 'extended_nonzero': True, 'nonpositive': False, 'zero': False, 'nonnegative': True, 'extended_negative': False, 'extended_positive': True, 'negative': False, 'nonzero': True, 'extended_nonnegative': True}\n"
          ]
        }
      ],
      "source": [
        "print(x.assumptions0)"
      ]
    },
    {
      "cell_type": "markdown",
      "id": "668315df",
      "metadata": {
        "id": "668315df"
      },
      "source": [
        "Most of these are still on their defaults, but by setting positive = True, we also set negative and nonpositive to False, and by setting integer to True, we set noninteger to False."
      ]
    },
    {
      "cell_type": "markdown",
      "id": "977fecb2",
      "metadata": {
        "id": "977fecb2"
      },
      "source": [
        "Using symbols, you can define a **symbolic expression**. Basic arithmetic for symbols is the same as for numbers, just tweaked behind the scenes to handle these new data types:"
      ]
    },
    {
      "cell_type": "code",
      "execution_count": null,
      "id": "be137cbd",
      "metadata": {
        "colab": {
          "base_uri": "https://localhost:8080/",
          "height": 58
        },
        "id": "be137cbd",
        "outputId": "95066917-4fe1-4e54-ce5b-a66c1d87ef56"
      },
      "outputs": [
        {
          "output_type": "execute_result",
          "data": {
            "text/plain": [
              "3*x*y + x**y - Mod(x, y) + floor(x/y)"
            ],
            "text/latex": "$\\displaystyle 3 x y + x^{y} - \\left(x \\bmod y\\right) + \\left\\lfloor{\\frac{x}{y}}\\right\\rfloor$"
          },
          "metadata": {},
          "execution_count": 5
        }
      ],
      "source": [
        "f = 3 * x * y + x**y - x % y + x // y\n",
        "f"
      ]
    },
    {
      "cell_type": "markdown",
      "id": "8b69ebd4",
      "metadata": {
        "id": "8b69ebd4"
      },
      "source": [
        "For fun, here's a noncommutative example:"
      ]
    },
    {
      "cell_type": "code",
      "execution_count": null,
      "id": "88b40a6d",
      "metadata": {
        "colab": {
          "base_uri": "https://localhost:8080/",
          "height": 39
        },
        "id": "88b40a6d",
        "outputId": "19687dcf-6e05-41c5-8fca-12a4e07ebc18"
      },
      "outputs": [
        {
          "output_type": "execute_result",
          "data": {
            "text/plain": [
              "a*b - b*a"
            ],
            "text/latex": "$\\displaystyle a b - b a$"
          },
          "metadata": {},
          "execution_count": 6
        }
      ],
      "source": [
        "a, b = sp.symbols('a b', commutative = False)\n",
        "\n",
        "h = a*b - b*a\n",
        "sp.simplify(h)"
      ]
    },
    {
      "cell_type": "markdown",
      "id": "d2f04671",
      "metadata": {
        "id": "d2f04671"
      },
      "source": [
        "What about more advanced mathematical functions?"
      ]
    },
    {
      "cell_type": "code",
      "execution_count": null,
      "id": "8a486963",
      "metadata": {
        "colab": {
          "base_uri": "https://localhost:8080/",
          "height": 338
        },
        "id": "8a486963",
        "outputId": "4bf88b8a-0053-4520-87fc-28e60d03595a"
      },
      "outputs": [
        {
          "output_type": "error",
          "ename": "TypeError",
          "evalue": "ignored",
          "traceback": [
            "\u001b[0;31m---------------------------------------------------------------------------\u001b[0m",
            "\u001b[0;31mTypeError\u001b[0m                                 Traceback (most recent call last)",
            "\u001b[0;32m<ipython-input-7-73c024f15472>\u001b[0m in \u001b[0;36m<cell line: 3>\u001b[0;34m()\u001b[0m\n\u001b[1;32m      1\u001b[0m \u001b[0;32mimport\u001b[0m \u001b[0mmath\u001b[0m\u001b[0;34m\u001b[0m\u001b[0;34m\u001b[0m\u001b[0m\n\u001b[1;32m      2\u001b[0m \u001b[0;34m\u001b[0m\u001b[0m\n\u001b[0;32m----> 3\u001b[0;31m \u001b[0mmath\u001b[0m\u001b[0;34m.\u001b[0m\u001b[0msin\u001b[0m\u001b[0;34m(\u001b[0m\u001b[0mx\u001b[0m\u001b[0;34m)\u001b[0m\u001b[0;34m\u001b[0m\u001b[0;34m\u001b[0m\u001b[0m\n\u001b[0m",
            "\u001b[0;32m/usr/local/lib/python3.10/dist-packages/sympy/core/expr.py\u001b[0m in \u001b[0;36m__float__\u001b[0;34m(self)\u001b[0m\n\u001b[1;32m    349\u001b[0m         \u001b[0;32mif\u001b[0m \u001b[0mresult\u001b[0m\u001b[0;34m.\u001b[0m\u001b[0mis_number\u001b[0m \u001b[0;32mand\u001b[0m \u001b[0mresult\u001b[0m\u001b[0;34m.\u001b[0m\u001b[0mas_real_imag\u001b[0m\u001b[0;34m(\u001b[0m\u001b[0;34m)\u001b[0m\u001b[0;34m[\u001b[0m\u001b[0;36m1\u001b[0m\u001b[0;34m]\u001b[0m\u001b[0;34m:\u001b[0m\u001b[0;34m\u001b[0m\u001b[0;34m\u001b[0m\u001b[0m\n\u001b[1;32m    350\u001b[0m             \u001b[0;32mraise\u001b[0m \u001b[0mTypeError\u001b[0m\u001b[0;34m(\u001b[0m\u001b[0;34m\"Cannot convert complex to float\"\u001b[0m\u001b[0;34m)\u001b[0m\u001b[0;34m\u001b[0m\u001b[0;34m\u001b[0m\u001b[0m\n\u001b[0;32m--> 351\u001b[0;31m         \u001b[0;32mraise\u001b[0m \u001b[0mTypeError\u001b[0m\u001b[0;34m(\u001b[0m\u001b[0;34m\"Cannot convert expression to float\"\u001b[0m\u001b[0;34m)\u001b[0m\u001b[0;34m\u001b[0m\u001b[0;34m\u001b[0m\u001b[0m\n\u001b[0m\u001b[1;32m    352\u001b[0m \u001b[0;34m\u001b[0m\u001b[0m\n\u001b[1;32m    353\u001b[0m     \u001b[0;32mdef\u001b[0m \u001b[0m__complex__\u001b[0m\u001b[0;34m(\u001b[0m\u001b[0mself\u001b[0m\u001b[0;34m)\u001b[0m\u001b[0;34m:\u001b[0m\u001b[0;34m\u001b[0m\u001b[0;34m\u001b[0m\u001b[0m\n",
            "\u001b[0;31mTypeError\u001b[0m: Cannot convert expression to float"
          ]
        }
      ],
      "source": [
        "import math\n",
        "\n",
        "math.sin(x)"
      ]
    },
    {
      "cell_type": "markdown",
      "id": "6588bde6",
      "metadata": {
        "id": "6588bde6"
      },
      "source": [
        "The above error is extremely common in MATH 151 and 152 labs. The Math package functions all expect a floating point number as an input, but these are symbols, so we'll need new versions of these functions..."
      ]
    },
    {
      "cell_type": "markdown",
      "id": "4f485531",
      "metadata": {
        "id": "4f485531"
      },
      "source": [
        "## 4.2 Symbolic Versions of Common Math Functions\n",
        "\n",
        "Just about every such function you would expect to be included in SymPy, is. Caution: since we imported SymPy \"as sp\", you have to preface each of these functions with **sp.** whenever you wish to use one.\n",
        "\n",
        "- **exp(x)**\n",
        "- **log(x, base)** (principal branch. If you leave the base blank, the default is $e$.)\n",
        "- **sin(x)**, **cos(x)**, **tan(x)**, **csc(x)**, **sec(x)**, **cot(x)**\n",
        "- **asin(x)** (arcsin- the rest are similar)\n",
        "- **sinh(x)**, **cosh(x)**, **tanh(x)**\n",
        "- **Abs(x)** (absolute value. Not sure why SymPy implemented this with the A capitalized, but they did, so don't forget.)\n",
        "- **Pow(x,n)** (also capitalized)\n",
        "- **sqrt(x)**, **root(x, n, k)** ($k$th $n$th root of a complex number. Default is $k=0$, so the principal root)\n",
        "- **ceiling(x)**, **floor(x)**\n",
        "- **factorial(n)**, **gamma(x)**\n",
        "- **binomial(n,k)**\n",
        "\n",
        "Complex functions such as **re(z)**, **im(z)**, **sign(z)**, **conjugate(z)**, **gamma(z)** are also present in abundance. The above functions also work on complexes wherever they should.\n",
        "\n",
        "See a much more comprehensive list at https://docs.sympy.org/latest/modules/functions/elementary.html\n",
        "\n",
        "Moreover, SymPy comes with several constants built-in:\n",
        "- **pi**\n",
        "- **E** (yes, capitalized)\n",
        "- **I** (also capitalized)\n",
        "\n",
        "Along multiple versions of infinity:\n",
        "- **oo** (infinity)\n",
        "- **-oo** (negative infinity)\n",
        "- **zoo** (complex infinity)\n",
        "\n",
        "Just like the functions, these are SymPy symbolic objects, so you would need to type **sp.pi** to use $\\pi$, for instance.\n",
        "\n",
        "**Your turn**: A quick one this time. Compute infinity - infinity using SymPy's version and see what happens this time (Python's floating point version of this calculation gave +infinity)."
      ]
    },
    {
      "cell_type": "code",
      "execution_count": null,
      "id": "62455452",
      "metadata": {
        "colab": {
          "base_uri": "https://localhost:8080/",
          "height": 37
        },
        "id": "62455452",
        "outputId": "40c3685d-3636-42ea-9929-f93bd77f5507"
      },
      "outputs": [
        {
          "output_type": "execute_result",
          "data": {
            "text/plain": [
              "nan"
            ],
            "text/latex": "$\\displaystyle \\text{NaN}$"
          },
          "metadata": {},
          "execution_count": 8
        }
      ],
      "source": [
        "sp.oo - sp.oo"
      ]
    },
    {
      "cell_type": "markdown",
      "id": "24247f29",
      "metadata": {
        "id": "24247f29"
      },
      "source": [
        "## 4.3 Algebraic Manipulation\n",
        "\n",
        "A common use of a computer algebra system (CAS) is to factor or simplify a more complicated expression, at least to the extent the domain allows. SymPy comes with many functions for this purpose.\n",
        "\n",
        "Note: These functions respect the conditions under which identities hold - you need the proper assumptions for SymPy to apply certain identities!\n",
        "\n",
        "General Purpose:\n",
        "- **collect(f,x)**: collects like powers of $x$.\n",
        "- **expand(f)**: An all-purpose expansion tool.\n",
        "- **factor(f)**: factors the expression.\n",
        "- **simplify(f)**: An all-purpose simplify tool. If it doesn't give good results, try one of the above first.\n",
        "\n",
        "**Your turn**: Below, I have the expression $\\sqrt{t^2}$. Simplify it. Next, try adding the assumption that t is real. Then positive."
      ]
    },
    {
      "cell_type": "code",
      "execution_count": null,
      "id": "69900908",
      "metadata": {
        "colab": {
          "base_uri": "https://localhost:8080/",
          "height": 39
        },
        "id": "69900908",
        "outputId": "aaf1ef9d-54e0-45bd-f987-c1edd283346a"
      },
      "outputs": [
        {
          "output_type": "execute_result",
          "data": {
            "text/plain": [
              "t"
            ],
            "text/latex": "$\\displaystyle t$"
          },
          "metadata": {},
          "execution_count": 12
        }
      ],
      "source": [
        "t = sp.symbols('t', nonnegative = True)\n",
        "f = sp.sqrt(t**2)\n",
        "\n",
        "sp.simplify(f)"
      ]
    },
    {
      "cell_type": "markdown",
      "id": "896eb32b",
      "metadata": {
        "id": "896eb32b"
      },
      "source": [
        "### More specialized expand/simplify functions:\n",
        "\n",
        "If you wish to force the use of an identity, after the expression input, put a comma, then \"force = True\". It doesn't work for every one of these, though.\n",
        "\n",
        "Logarithms:\n",
        "- **expand_log(f)**: applies logarithm identities to expand an expression\n",
        "- **logcombine(f)**: applies log identities to combine terms"
      ]
    },
    {
      "cell_type": "code",
      "execution_count": null,
      "id": "0f037716",
      "metadata": {
        "id": "0f037716"
      },
      "outputs": [],
      "source": [
        "x = sp.symbols('x', positive = True)\n",
        "\n",
        "sp.expand_log(sp.log(x*(x+1)))"
      ]
    },
    {
      "cell_type": "markdown",
      "id": "3592a356",
      "metadata": {
        "id": "3592a356"
      },
      "source": [
        "Power:\n",
        "- **powsimp(f)**: applies exponent rules to simplify"
      ]
    },
    {
      "cell_type": "code",
      "execution_count": null,
      "id": "bce0bbf8",
      "metadata": {
        "id": "bce0bbf8"
      },
      "outputs": [],
      "source": [
        "x, y = sp.symbols('x y')\n",
        "\n",
        "sp.powsimp((x*y)**8)"
      ]
    },
    {
      "cell_type": "markdown",
      "id": "b4a4a136",
      "metadata": {
        "id": "b4a4a136"
      },
      "source": [
        "Rational:\n",
        "- **apart(f)**: partial fraction decompositon on a rational function\n",
        "- **cancel(f)**: reduces rational functions to the point where num and denom have no common factors, and the leading coeffs are integers"
      ]
    },
    {
      "cell_type": "code",
      "execution_count": null,
      "id": "736de836",
      "metadata": {
        "id": "736de836"
      },
      "outputs": [],
      "source": [
        "f = (2*x + 1) / (x**2 - x**2 - 6)\n",
        "\n",
        "sp.apart(f)"
      ]
    },
    {
      "cell_type": "markdown",
      "id": "a0543d85",
      "metadata": {
        "id": "a0543d85"
      },
      "source": [
        "Trigonometric:\n",
        "- **expand_trig(f)**: applies sum or double-angle identities to expand an expression\n",
        "- **trigsimp(f)**: applies trigonometric identities to simplify an expression"
      ]
    },
    {
      "cell_type": "code",
      "execution_count": null,
      "id": "5a0a9e63",
      "metadata": {
        "id": "5a0a9e63"
      },
      "outputs": [],
      "source": [
        "f = (1 - sp.cos(2*x))/2\n",
        "\n",
        "sp.trigsimp(f)"
      ]
    },
    {
      "cell_type": "markdown",
      "id": "2a421b15",
      "metadata": {
        "id": "2a421b15"
      },
      "source": [
        "For more information, see https://docs.sympy.org/latest/tutorials/intro-tutorial/simplification.html\n",
        "\n",
        "**Your turn**: Simplify this function however you wish. Different methods will give you slightly different results."
      ]
    },
    {
      "cell_type": "code",
      "execution_count": null,
      "id": "940ef64c",
      "metadata": {
        "id": "940ef64c"
      },
      "outputs": [],
      "source": [
        "x = sp.symbols('x', positive = True)\n",
        "f = sp.sin(sp.atan( sp.log(x**2) + sp.log(x) ))**2\n",
        "\n"
      ]
    },
    {
      "cell_type": "markdown",
      "id": "4f21b4c4",
      "metadata": {
        "id": "4f21b4c4"
      },
      "source": [
        "### Substitution\n",
        "\n",
        "Given a symbolic expression of a variable, often we want to plug in a specific value. The syntax is:\n",
        "\n",
        "**expression.subs(variable,value)**"
      ]
    },
    {
      "cell_type": "code",
      "execution_count": null,
      "id": "43a22cc0",
      "metadata": {
        "id": "43a22cc0"
      },
      "outputs": [],
      "source": [
        "x = sp.symbols('x', real = True)\n",
        "f = x**2 + 1\n",
        "val2 = f.subs(x,2)\n",
        "print('f(2) =',val2)\n",
        "valI = f.subs(x,sp.I) # sp.I is the constant i\n",
        "print('f(i) =',valI)"
      ]
    },
    {
      "cell_type": "markdown",
      "id": "76ed2ab4",
      "metadata": {
        "id": "76ed2ab4"
      },
      "source": [
        "Notice that subs ignored the assumption on the variable and let us plug $x=i$ in anyway.\n",
        "\n",
        "**Your turn**: You can use **subs** to swap out whole expressions as well. For the polynomial $x^2 + 14x + 49$ defined below, make the appropriate substitution to rewrite the expression as $t^2$. (Hint: you'll need SymPy to factor the expression first.)"
      ]
    },
    {
      "cell_type": "code",
      "execution_count": null,
      "id": "09155d00",
      "metadata": {
        "id": "09155d00"
      },
      "outputs": [],
      "source": [
        "x, t = sp.symbols('x t')\n",
        "f = x**2 + 14*x + 49\n",
        "\n"
      ]
    },
    {
      "cell_type": "markdown",
      "id": "7b7549ad",
      "metadata": {
        "id": "7b7549ad"
      },
      "source": [
        "Subs can also be used to compose two functions:"
      ]
    },
    {
      "cell_type": "code",
      "execution_count": null,
      "id": "4c02accd",
      "metadata": {
        "colab": {
          "base_uri": "https://localhost:8080/",
          "height": 39
        },
        "id": "4c02accd",
        "outputId": "a4c890bd-a48d-4d0f-d6f2-91a4fd87d71b"
      },
      "outputs": [
        {
          "output_type": "execute_result",
          "data": {
            "text/plain": [
              "log(9*exp(2*x))"
            ],
            "text/latex": "$\\displaystyle \\log{\\left(9 e^{2 x} \\right)}$"
          },
          "metadata": {},
          "execution_count": 15
        }
      ],
      "source": [
        "x = sp.symbols('x', real = True)\n",
        "g = sp.log(9*x**2)\n",
        "h = sp.exp(x)\n",
        "comp = g.subs(x,h)\n",
        "comp"
      ]
    },
    {
      "cell_type": "markdown",
      "id": "e1a12b3f",
      "metadata": {
        "id": "e1a12b3f"
      },
      "source": [
        "Which, in expanded form, is..."
      ]
    },
    {
      "cell_type": "code",
      "execution_count": null,
      "id": "140ff362",
      "metadata": {
        "colab": {
          "base_uri": "https://localhost:8080/",
          "height": 39
        },
        "id": "140ff362",
        "outputId": "50204047-eaf3-47e0-d8e1-482d6f084d54"
      },
      "outputs": [
        {
          "output_type": "execute_result",
          "data": {
            "text/plain": [
              "2*x + 2*log(3)"
            ],
            "text/latex": "$\\displaystyle 2 x + 2 \\log{\\left(3 \\right)}$"
          },
          "metadata": {},
          "execution_count": 16
        }
      ],
      "source": [
        "sp.expand_log(comp)"
      ]
    },
    {
      "cell_type": "markdown",
      "id": "ad86a336",
      "metadata": {
        "id": "ad86a336"
      },
      "source": [
        "### Decimal Form (Approximate)\n",
        "\n",
        "If you ever want SymPy to evaluate a symbolic expression containing no variables, type **.evalf()** after the expression or its name."
      ]
    },
    {
      "cell_type": "code",
      "execution_count": null,
      "id": "8323597b",
      "metadata": {
        "id": "8323597b"
      },
      "outputs": [],
      "source": [
        "expression = sp.exp(12) #e^12\n",
        "print(expression) # Keeps the expression exact unless forced otherwise by .evalf()\n",
        "expression.evalf()"
      ]
    },
    {
      "cell_type": "markdown",
      "id": "a09ac6d2",
      "metadata": {
        "id": "a09ac6d2"
      },
      "source": [
        "## 4.4 Other Symbolic Data Types\n",
        "\n",
        "### Functions\n",
        "\n",
        "Functions in SymPy are symbolic representations of a function $f(x)$. They are defined similarly to symbols:"
      ]
    },
    {
      "cell_type": "code",
      "execution_count": null,
      "id": "92952f38",
      "metadata": {
        "id": "92952f38"
      },
      "outputs": [],
      "source": [
        "x, y = sp.symbols('x y')\n",
        "f = sp.Function('f')(x) # f is a function of x\n",
        "g = sp.Function('g')(x,y) # g is a function of x and y\n",
        "g"
      ]
    },
    {
      "cell_type": "markdown",
      "id": "d19dc724",
      "metadata": {
        "id": "d19dc724"
      },
      "source": [
        "Note: At some point, you were able to define a Function using sp.symbols with the assumption \"cls=Function\", but they seem to have removed that method.\n",
        "\n",
        "For differential equations, you also want representations of the derivative(s) of an unknown $f$:"
      ]
    },
    {
      "cell_type": "code",
      "execution_count": null,
      "id": "83d8707c",
      "metadata": {
        "id": "83d8707c"
      },
      "outputs": [],
      "source": [
        "fp = sp.Derivative(f,x)\n",
        "fpp = sp.Derivative(f,x,2) # Second derivative. Replace 2 with n to get nth derivative\n",
        "dgdx = sp.Derivative(g,x)\n",
        "d2gdxdy = sp.Derivative(g,x,y) # Second partial derivative w.r.t. x and y\n",
        "d2gdxdy"
      ]
    },
    {
      "cell_type": "markdown",
      "id": "1411fb38",
      "metadata": {
        "id": "1411fb38"
      },
      "source": [
        "For integral equations, you might want this:"
      ]
    },
    {
      "cell_type": "code",
      "execution_count": null,
      "id": "e348aebc",
      "metadata": {
        "id": "e348aebc"
      },
      "outputs": [],
      "source": [
        "F = sp.Integral(f,x)\n",
        "F"
      ]
    },
    {
      "cell_type": "markdown",
      "id": "5b83ed84",
      "metadata": {
        "id": "5b83ed84"
      },
      "source": [
        "Note: Function, Derivative, and Integral are capitalized. This is a way to remember these create and manipulate symbolic stand-ins for functions, and are *not* operations to be applied to expressions."
      ]
    },
    {
      "cell_type": "markdown",
      "id": "fc17aa18",
      "metadata": {
        "id": "fc17aa18"
      },
      "source": [
        "Next, we have the general data type of **relations**. First up is **Equalities** (what SymPy calls their equation data type). Use **sp.Eq(LHS,RHS)** to create one."
      ]
    },
    {
      "cell_type": "code",
      "execution_count": null,
      "id": "1b8770c0",
      "metadata": {
        "id": "1b8770c0"
      },
      "outputs": [],
      "source": [
        "LHS =  3*x**2 - 12*x\n",
        "RHS = -9\n",
        "simpleEq = sp.Eq(LHS,RHS)\n",
        "simpleEq"
      ]
    },
    {
      "cell_type": "code",
      "execution_count": null,
      "id": "074f9ca3",
      "metadata": {
        "id": "074f9ca3"
      },
      "outputs": [],
      "source": [
        "LHS = fp\n",
        "RHS = f\n",
        "simpleODE = sp.Eq(LHS,RHS)\n",
        "simpleODE"
      ]
    },
    {
      "cell_type": "markdown",
      "id": "6ec52a5d",
      "metadata": {
        "id": "6ec52a5d"
      },
      "source": [
        "You can't do arithmetical operations to both sides like you could by hand, but **simplify** and other algebraic commands will work on Equalities:"
      ]
    },
    {
      "cell_type": "code",
      "execution_count": null,
      "id": "12470d9b",
      "metadata": {
        "id": "12470d9b"
      },
      "outputs": [],
      "source": [
        "simpleEq.simplify() # or you could put sp.simplify(simpleEq)"
      ]
    },
    {
      "cell_type": "markdown",
      "id": "9abe9d42",
      "metadata": {
        "id": "9abe9d42"
      },
      "source": [
        "Then there's **Inequalities**:\n",
        "\n",
        "- **Ne(LHS,RHS)** is Unequality (SymPy's term, not mine)\n",
        "- **Lt(LHS,RHS)** is Less Than (strict)\n",
        "- **Le(LHS,RHS)** is Less Than or Equal To\n",
        "- **Gt(LHS,RHS)** is Greater Than (strict)\n",
        "- **Ge(LHS,RHS)** is Greater Than or Equal To"
      ]
    },
    {
      "cell_type": "code",
      "execution_count": null,
      "id": "d1519cf7",
      "metadata": {
        "id": "d1519cf7"
      },
      "outputs": [],
      "source": [
        "LHS = x + 2\n",
        "RHS = 2*x - 1\n",
        "\n",
        "simpleLt = sp.Lt(LHS,RHS)\n",
        "sp.pprint(simpleLt)\n",
        "simpleLt.simplify()"
      ]
    },
    {
      "cell_type": "markdown",
      "id": "c4a700e9",
      "metadata": {
        "id": "c4a700e9"
      },
      "source": [
        "These are examples of the more general **Relational** data type. You can combine multiple inequalities to get a Relational:"
      ]
    },
    {
      "cell_type": "code",
      "execution_count": null,
      "id": "beffaf74",
      "metadata": {
        "id": "beffaf74"
      },
      "outputs": [],
      "source": [
        "x = sp.symbols('x')\n",
        "R = sp.Lt(5,x) & sp.Lt(x,10) # SymPy only supports the symbolic and/or to chain inequalities.\n",
        "R"
      ]
    },
    {
      "cell_type": "markdown",
      "id": "7592c960",
      "metadata": {
        "id": "7592c960"
      },
      "source": [
        "## 4.5 Solvers\n",
        "\n",
        "SymPy has many solvers, depending on the type of equation.\n",
        "\n",
        "The syntax for *most* solvers is **sp.solvername(expression, whattosolvefor)**, where the given expression is set equal to 0.\n",
        "\n",
        "You can also input an Equality: **sp.solvername(equality, whattosolvefor)**.\n",
        "\n",
        "**Important:** If your variables are not meant to be complex, you should include those assumptions when defining your variables. This gives the solvers more information to help reach the solution(s) faster.\n",
        "\n",
        "For more information, see https://docs.sympy.org/latest/modules/solvers/solvers.html\n",
        "\n",
        "For other types of solvers, see https://docs.sympy.org/latest/modules/solvers/index.html\n",
        "\n",
        "### sp.solve()\n",
        "\n",
        "The standard algebraic solver. Use if you want to solve an equation for a variable, or a system of equations for multiple variables."
      ]
    },
    {
      "cell_type": "code",
      "execution_count": null,
      "id": "4809d3f8",
      "metadata": {
        "id": "4809d3f8"
      },
      "outputs": [],
      "source": [
        "expr = 4*x**2 - 48\n",
        "solns = sp.solve(expr, x) # Solves the equation expr = 0\n",
        "solns"
      ]
    },
    {
      "cell_type": "code",
      "execution_count": null,
      "id": "a7df83da",
      "metadata": {
        "id": "a7df83da"
      },
      "outputs": [],
      "source": [
        "equ = sp.Eq(4*x**2, 48) # Equation 4x^2 = 48\n",
        "solns = sp.solve(equ,x)\n",
        "solns"
      ]
    },
    {
      "cell_type": "markdown",
      "id": "0f7e5996",
      "metadata": {
        "id": "0f7e5996"
      },
      "source": [
        "Note that we get a list in the single-variable case. Also, if there are no solutions, you'll get an empty list []. To access a specific solution, use the index (starting from 0):"
      ]
    },
    {
      "cell_type": "code",
      "execution_count": null,
      "id": "f84330a2",
      "metadata": {
        "id": "f84330a2"
      },
      "outputs": [],
      "source": [
        "solns[0]"
      ]
    },
    {
      "cell_type": "markdown",
      "id": "bae88f55",
      "metadata": {
        "id": "bae88f55"
      },
      "source": [
        "Next, a system of equations:"
      ]
    },
    {
      "cell_type": "code",
      "execution_count": null,
      "id": "fcfaa345",
      "metadata": {
        "id": "fcfaa345"
      },
      "outputs": [],
      "source": [
        "expr1 = 4*x - 3*y - 9\n",
        "expr2 = 3*x - 2*y - 7\n",
        "sp.solve([expr1,expr2],[x,y])"
      ]
    },
    {
      "cell_type": "code",
      "execution_count": null,
      "id": "9710b992",
      "metadata": {
        "id": "9710b992"
      },
      "outputs": [],
      "source": [
        "expr1 = sp.Eq(4*x - 3*y, 9)\n",
        "expr2 = sp.Eq(3*x - 2*y, 7)\n",
        "solns = sp.solve([expr1,expr2],[x,y])\n",
        "solns"
      ]
    },
    {
      "cell_type": "markdown",
      "id": "08599c13",
      "metadata": {
        "id": "08599c13"
      },
      "source": [
        "Notice we get a dictionary this time. The index is the list of variable names, so to retrieve a solution, we just use the variable names to get its coordinate. For example, **solns[x]** would return 3.\n",
        "\n",
        "**Your Turn:** Solve the equation given by LHS = RHS using the LHS and RHS defined below. (Note that SymPy looks at the principal branch of the complex logarithm. How would you modify this code so we just consider the standard real-valued logarithm?)"
      ]
    },
    {
      "cell_type": "code",
      "execution_count": null,
      "id": "27682ea3",
      "metadata": {
        "id": "27682ea3"
      },
      "outputs": [],
      "source": [
        "x = sp.symbols('x')\n",
        "LHS = sp.log(2 * x - 2 * x**2)\n",
        "RHS = sp.log(x - 2) + sp.log(2)\n",
        "\n"
      ]
    },
    {
      "cell_type": "markdown",
      "id": "6dbbbb0a",
      "metadata": {
        "id": "6dbbbb0a"
      },
      "source": [
        "### sp.dsolve()\n",
        "\n",
        "SymPy's ODE solver. As usual, the input can be an expression to be set equal to 0 or an Equality."
      ]
    },
    {
      "cell_type": "code",
      "execution_count": null,
      "id": "21f9b140",
      "metadata": {
        "id": "21f9b140"
      },
      "outputs": [],
      "source": [
        "x, y = sp.symbols('x y')\n",
        "f = sp.Function('f')(x) # f is a function of x\n",
        "fp = sp.Derivative(f,x)\n",
        "LHS = fp\n",
        "RHS = f\n",
        "simpleODE = sp.Eq(LHS,RHS)\n",
        "simpleODE"
      ]
    },
    {
      "cell_type": "code",
      "execution_count": null,
      "id": "406ad703",
      "metadata": {
        "id": "406ad703"
      },
      "outputs": [],
      "source": [
        "sp.dsolve(simpleODE,f)"
      ]
    },
    {
      "cell_type": "markdown",
      "id": "4912eaea",
      "metadata": {
        "id": "4912eaea"
      },
      "source": [
        "Note that it gave us the most general form, with arbitrary constant $C_1$.\n",
        "\n",
        "It can also solve a system of ODEs. For more information, see https://docs.sympy.org/latest/modules/solvers/ode.html\n",
        "\n",
        "There is also **sp.pdsolve()** for PDEs. See https://docs.sympy.org/latest/modules/solvers/pde.html"
      ]
    },
    {
      "cell_type": "markdown",
      "id": "dd77e4bb",
      "metadata": {
        "id": "dd77e4bb"
      },
      "source": [
        "### sp.nsolve()\n",
        "\n",
        "This has a different syntax: **sp.nsolve(expr, x0)**, where expr is set equal to 0 as usual, but this is a numerical method that requires a starting guess **x0**. It returns one solution at a time."
      ]
    },
    {
      "cell_type": "code",
      "execution_count": null,
      "id": "e535d3d3",
      "metadata": {
        "id": "e535d3d3"
      },
      "outputs": [],
      "source": [
        "x, y = sp.symbols('x y')\n",
        "\n",
        "sol1 = sp.nsolve(x**2 - 8, 3)\n",
        "sol2 = sp.nsolve(x**2 - 8, -3)\n",
        "print(sol1,sol2)"
      ]
    },
    {
      "cell_type": "markdown",
      "id": "36213d60",
      "metadata": {
        "id": "36213d60"
      },
      "source": [
        "Here's a multivariable example. The syntax is **sp.nsolve((tuple_of_expressions), (tuple_of_variables),(starting_guess_tuple))**"
      ]
    },
    {
      "cell_type": "code",
      "execution_count": null,
      "id": "c6b2c182",
      "metadata": {
        "id": "c6b2c182"
      },
      "outputs": [],
      "source": [
        "sp.nsolve((sp.sin(x), sp.sin(y)), (x,y), (sp.pi.evalf(), sp.pi.evalf()))"
      ]
    },
    {
      "cell_type": "markdown",
      "id": "7361aa5c",
      "metadata": {
        "id": "7361aa5c"
      },
      "source": [
        "### Other solvers\n",
        "\n",
        "- **solve_linear_system()**: given an augmented matrix, solves the corresponding linear system using Gauss-Jordan elimination\n",
        "- **rsolve()**: solves recurrence relations\n",
        "- **solve_poly_system()**: solves multivariable polynomial systems\n",
        "- **solve_rational_inequalities()**: solves a system of inequalities with rational coefficients (can be very slow!)\n",
        "\n",
        "For more information on inequality solvers, see https://docs.sympy.org/latest/modules/solvers/inequalities.html#inequality-docs"
      ]
    },
    {
      "cell_type": "markdown",
      "id": "197a2e27",
      "metadata": {
        "id": "197a2e27"
      },
      "source": [
        "## 4.6 Output in SymPy\n",
        "\n",
        "Regular print statement output:"
      ]
    },
    {
      "cell_type": "code",
      "execution_count": null,
      "id": "191ad511",
      "metadata": {
        "id": "191ad511"
      },
      "outputs": [],
      "source": [
        "f = x**2 + sp.sin(x) / 4\n",
        "print(f)"
      ]
    },
    {
      "cell_type": "markdown",
      "id": "17b7b664",
      "metadata": {
        "id": "17b7b664"
      },
      "source": [
        "Notebook output- uses LaTeX but has to be the last line of a cell:"
      ]
    },
    {
      "cell_type": "code",
      "execution_count": null,
      "id": "858da095",
      "metadata": {
        "id": "858da095"
      },
      "outputs": [],
      "source": [
        "f"
      ]
    },
    {
      "cell_type": "markdown",
      "id": "9aa3e087",
      "metadata": {
        "id": "9aa3e087"
      },
      "source": [
        "SymPy's \"Pretty Printing\"- uses ASCII characters and doesn't have to be the last line of a cell: (**sp.pretty()** also works)"
      ]
    },
    {
      "cell_type": "code",
      "execution_count": null,
      "id": "e67048bd",
      "metadata": {
        "id": "e67048bd"
      },
      "outputs": [],
      "source": [
        "sp.pprint(f)"
      ]
    },
    {
      "cell_type": "markdown",
      "id": "4b2a7a4e",
      "metadata": {
        "id": "4b2a7a4e"
      },
      "source": [
        "SymPy also has LaTeX code output, ready to copy/paste, though it may have some extra stuff you don't need:"
      ]
    },
    {
      "cell_type": "code",
      "execution_count": null,
      "id": "84e70064",
      "metadata": {
        "id": "84e70064"
      },
      "outputs": [],
      "source": [
        "sp.print_latex(f)"
      ]
    },
    {
      "cell_type": "markdown",
      "id": "8153651b",
      "metadata": {
        "id": "8153651b"
      },
      "source": [
        "Technical note: if you need this as a STRING for Python to insert into a file (for example, you're computing a bunch of expressions at once and need LaTeX code for all results saved to disk), use this instead:"
      ]
    },
    {
      "cell_type": "code",
      "execution_count": null,
      "id": "33141883",
      "metadata": {
        "id": "33141883"
      },
      "outputs": [],
      "source": [
        "sp.latex(f)"
      ]
    },
    {
      "cell_type": "markdown",
      "id": "a68b5600",
      "metadata": {
        "id": "a68b5600"
      },
      "source": [
        "## 4.7 Basic Plotting\n",
        "\n",
        "SymPy has a **plot** command built-in. The syntax for a single-variable function is:\n",
        "\n",
        "**sp.plot(function, (x, leftbd, rightbd), optional_additional_arguments)**\n",
        "\n",
        "There are MANY additional arguments you can include to customize your plot! For a complete list, see https://docs.sympy.org/latest/modules/plotting.html"
      ]
    },
    {
      "cell_type": "markdown",
      "id": "8ca20046",
      "metadata": {
        "id": "8ca20046"
      },
      "source": [
        "### SymPy plots vs. Matplotlib?\n",
        "\n",
        "SymPy's plotting feature is a *fork* of Matplotlib, a modified version. You don't need to import Matplotlib itself if you are only plotting SymPy expressions.\n",
        "\n",
        "Plotting Overview:\n",
        "- If you liked MATLAB's style of plotting, you'll like this.\n",
        "- *State-based*: commands are directives to change the state of the *most recently created plot*\n",
        "\n",
        "Here is an example plot:"
      ]
    },
    {
      "cell_type": "code",
      "execution_count": null,
      "id": "19dd5d22",
      "metadata": {
        "id": "19dd5d22"
      },
      "outputs": [],
      "source": [
        "%matplotlib notebook\n",
        "\n",
        "x = sp.symbols('x')\n",
        "f = -x**2 + 9\n",
        "\n",
        "fig1 = sp.plot(f, (x,-3,3), line_color = 'red')"
      ]
    },
    {
      "cell_type": "markdown",
      "id": "6f5eaa8a",
      "metadata": {
        "id": "6f5eaa8a"
      },
      "source": [
        "The **%matplotlib notebook** is NOT Python code, but an IPython \"magic command\". It makes the plot more interactive (notice the toolbar). Try rerunning without it.\n",
        "\n",
        "If we have more than one function to graph, we have to:\n",
        "- Create the first plot, but include the argument **show = False** to tell it to not display just yet.\n",
        "- Create the second plot, also with **show = False**\n",
        "- Use Python's **.extend()** command to dump the contents of one plot into the other. (Plots are lists at heart!)\n",
        "- Use the **.show()** command to show the plot:"
      ]
    },
    {
      "cell_type": "code",
      "execution_count": null,
      "id": "f9863b06",
      "metadata": {
        "id": "f9863b06"
      },
      "outputs": [],
      "source": [
        "plot1 = sp.plot(f, (x,-3,3), line_color = 'red', show = False)\n",
        "plot2 = sp.plot(9, (x,-3,3), line_color = 'blue', show = False)\n",
        "plot1.extend(plot2)\n",
        "plot1.show()"
      ]
    },
    {
      "cell_type": "markdown",
      "id": "8c7fe70a",
      "metadata": {
        "id": "8c7fe70a"
      },
      "source": [
        "Other plotting commands (see the above link for more info on each):\n",
        "- **plot_parametric()**\n",
        "- **plot_implicit()**\n",
        "- **plot3d()**\n",
        "- **plot3d_parametric_line()**\n",
        "- **plot3d_parametric_surface()**"
      ]
    },
    {
      "cell_type": "markdown",
      "id": "8e028290",
      "metadata": {
        "id": "8e028290"
      },
      "source": [
        "### Bonus: tikzplotlib\n",
        "\n",
        "This package can take the most recently displayed plot and convert it to TikZ code for you!\n",
        "\n",
        "**For Anaconda/Jupyter Notebook users:** First, install it using the terminal:\n",
        "- Close out of Jupyter Notebook by File > Close and Halt.\n",
        "- Go back to the terminal and type **pip install tikzplotlib** (we can talk about using **pip install** vs. **conda install** at a later point).\n",
        "- Re-enter the notebook and it's ready to import!\n",
        "\n",
        "**For Google Colab users:** Install by running the following cell. Notice that it's the same line that Jupyter users put into the terminal, except it's led by a \"!\". This is a way to install packages Colab doesn't have by default."
      ]
    },
    {
      "cell_type": "code",
      "execution_count": null,
      "id": "cdc8446a",
      "metadata": {
        "id": "cdc8446a"
      },
      "outputs": [],
      "source": [
        "# Only run this if you are using Google Colab! Follow the instructions above to install tikzplotlib using Anaconda.\n",
        "\n",
        "!pip install tikzplotlib"
      ]
    },
    {
      "cell_type": "markdown",
      "source": [
        "Now that TPL is installed, here's an example"
      ],
      "metadata": {
        "id": "ZVRImA_lLyLp"
      },
      "id": "ZVRImA_lLyLp"
    },
    {
      "cell_type": "code",
      "source": [
        "import tikzplotlib\n",
        "\n",
        "tikzplotlib.clean_figure()\n",
        "tikzplotlib.save('tangentline.tex')"
      ],
      "metadata": {
        "id": "N6A8DerJLEE0"
      },
      "id": "N6A8DerJLEE0",
      "execution_count": null,
      "outputs": []
    },
    {
      "cell_type": "markdown",
      "id": "bd2cd603",
      "metadata": {
        "id": "bd2cd603"
      },
      "source": [
        "**clean_figure()** trims anything not shown in the current display window (such as functions drawn for a larger domain than what is shown) to prepare it for conversion.\n",
        "\n",
        "**save('filename.tex')** is self-explanatory. The file is in the same directory as the notebook."
      ]
    },
    {
      "cell_type": "markdown",
      "id": "f2df73e7",
      "metadata": {
        "id": "f2df73e7"
      },
      "source": [
        "## 4.8 Troubleshooting\n",
        "\n",
        "Remember: sometimes the simplest explanation for an issue is the best. Look for typos (especially misplaced parenthesis or brackets), commands not being called properly, etc.\n",
        "\n",
        "1) Symbolic expressions *do NOT* work with the Math or NumPy packages' versions of sin, cos, etc.!!!"
      ]
    },
    {
      "cell_type": "code",
      "execution_count": null,
      "id": "69a670f1",
      "metadata": {
        "id": "69a670f1"
      },
      "outputs": [],
      "source": [
        "import numpy as np\n",
        "\n",
        "x = sp.symbols('x')\n",
        "\n",
        "np.sqrt(x)"
      ]
    },
    {
      "cell_type": "markdown",
      "id": "3e5cd383",
      "metadata": {
        "id": "3e5cd383"
      },
      "source": [
        "It certainly doesn't help that the TypeError messages NumPy gives are worded like that."
      ]
    },
    {
      "cell_type": "markdown",
      "id": "0cab07b3",
      "metadata": {
        "id": "0cab07b3"
      },
      "source": [
        "2) SymPy sometimes gets shaken by decimal powers.\n",
        "\n",
        "This one's best explained after an example:"
      ]
    },
    {
      "cell_type": "code",
      "execution_count": null,
      "id": "dffb5e72",
      "metadata": {
        "id": "dffb5e72"
      },
      "outputs": [],
      "source": [
        "x = sp.symbols('x', real = True)\n",
        "\n",
        "f = (x**2 - 1)**(3/2)\n",
        "sp.pprint(f)\n",
        "sp.integrate(f,x)"
      ]
    },
    {
      "cell_type": "markdown",
      "id": "a525c742",
      "metadata": {
        "id": "a525c742"
      },
      "source": [
        "Notice that the 3/2 was turned into 1.5 upon storing the expression to $f$. Python follows order of operations, whether we like it or not. 3/2 evaluates to a float, and SymPy isn't the greatest at converting a float to a fraction, but you can use **sp.Rational(num,denom)** to turn 3/2 into a symbolic expression to keep it from becoming a float."
      ]
    },
    {
      "cell_type": "code",
      "execution_count": null,
      "id": "e067caa7",
      "metadata": {
        "id": "e067caa7"
      },
      "outputs": [],
      "source": [
        "f = (x**2 - 1)**sp.Rational(3/2)\n",
        "sp.integrate(f,x)"
      ]
    },
    {
      "cell_type": "markdown",
      "id": "8c5dd9d0",
      "metadata": {
        "id": "8c5dd9d0"
      },
      "source": [
        "Another approach is to turn the 3 into a symbolic expression using **sp.S()**. Dividing a symbolic expression by an integer will give another symbolic expression."
      ]
    },
    {
      "cell_type": "code",
      "execution_count": null,
      "id": "d964ebda",
      "metadata": {
        "id": "d964ebda"
      },
      "outputs": [],
      "source": [
        "sp.S(3) / 2"
      ]
    },
    {
      "cell_type": "markdown",
      "id": "6f11e9c9",
      "metadata": {
        "id": "6f11e9c9"
      },
      "source": [
        "To see the difference, check the data types:"
      ]
    },
    {
      "cell_type": "code",
      "execution_count": null,
      "id": "4e457545",
      "metadata": {
        "id": "4e457545"
      },
      "outputs": [],
      "source": [
        "print(type(3))\n",
        "print(type(sp.S(3)))"
      ]
    },
    {
      "cell_type": "markdown",
      "id": "9855893c",
      "metadata": {
        "id": "9855893c"
      },
      "source": [
        "3) The solver never finishes, or it gives a NotImplementedError.\n",
        "\n",
        "It's sad but true- SymPy can't solve every equation, but the same can be said about Mathematica, the MATLAB symbolic toolbox, or the TI-Nspire. You can try these things to see if you can coax a solution:\n",
        "- Give the solver as much information as you can- include all relevant assumptions in your symbol definitions.\n",
        "- Play with the simplifier commands.\n",
        "- Use **sp.nsolve** if an exact form is unimportant."
      ]
    },
    {
      "cell_type": "code",
      "execution_count": null,
      "id": "461a8f5b",
      "metadata": {
        "id": "461a8f5b"
      },
      "outputs": [],
      "source": []
    }
  ],
  "metadata": {
    "kernelspec": {
      "display_name": "Python 3 (ipykernel)",
      "language": "python",
      "name": "python3"
    },
    "language_info": {
      "codemirror_mode": {
        "name": "ipython",
        "version": 3
      },
      "file_extension": ".py",
      "mimetype": "text/x-python",
      "name": "python",
      "nbconvert_exporter": "python",
      "pygments_lexer": "ipython3",
      "version": "3.9.18"
    },
    "colab": {
      "provenance": []
    }
  },
  "nbformat": 4,
  "nbformat_minor": 5
}