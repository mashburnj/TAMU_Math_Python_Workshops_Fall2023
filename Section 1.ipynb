{
 "cells": [
  {
   "cell_type": "markdown",
   "id": "5bf00ae8",
   "metadata": {},
   "source": [
    "# Section 1 - Introduction to Python and Jupyter Notebooks\n",
    "\n",
    "Objectives:\n",
    "- Overview of Python\n",
    "- Tutorial for Jupyter Notebook Interface\n",
    "- Importing a Package\n",
    "- Quick Overview of Relevant Packages (math, numpy, sympy, matplotlib)"
   ]
  },
  {
   "cell_type": "markdown",
   "id": "710a7d41",
   "metadata": {},
   "source": [
    "## Overview of Python\n",
    "\n",
    "- High level (more readable, not so in the weeds of the technical backend)\n",
    "- Dynamic data typing (i.e. data type of a variable CAN change on the fly)\n",
    "- Can be used for procedural programming, functional programming, or object-oriented programming\n",
    "- Unlike C++, Java, etc., Python relies on *whitespace indentation* to indicate loop code, function code, etc.\n",
    "- Emphasizes readability above all else"
   ]
  },
  {
   "cell_type": "markdown",
   "id": "977fecb2",
   "metadata": {},
   "source": [
    "## Tutorial for Jupyter Notebook Interface"
   ]
  },
  {
   "cell_type": "markdown",
   "id": "6588bde6",
   "metadata": {},
   "source": [
    "- Each notebook is comprised of *cells*, blocks used for code or markdown.\n",
    "- To edit a markdown block, double-click it. This will disable the nice formatting to let you edit the text.\n",
    "- When finished, *run* the cell. "
   ]
  }
 ],
 "metadata": {
  "kernelspec": {
   "display_name": "Python 3 (ipykernel)",
   "language": "python",
   "name": "python3"
  },
  "language_info": {
   "codemirror_mode": {
    "name": "ipython",
    "version": 3
   },
   "file_extension": ".py",
   "mimetype": "text/x-python",
   "name": "python",
   "nbconvert_exporter": "python",
   "pygments_lexer": "ipython3",
   "version": "3.9.13"
  }
 },
 "nbformat": 4,
 "nbformat_minor": 5
}
