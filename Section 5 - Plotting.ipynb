{
 "cells": [
  {
   "cell_type": "markdown",
   "id": "5bf00ae8",
   "metadata": {},
   "source": [
    "# Section 1 - Introduction to Python and Jupyter Notebooks\n",
    "\n",
    "Objectives:\n",
    "- Overview of Python\n",
    "- Tutorial for Jupyter Notebook Interface\n",
    "- Importing a Package\n",
    "- Quick Overview of Relevant Packages (math, numpy, sympy, matplotlib)"
   ]
  },
  {
   "cell_type": "markdown",
   "id": "710a7d41",
   "metadata": {},
   "source": [
    "## Overview of Python\n",
    "\n",
    "- High level (more readable, not so in the weeds of the technical backend)\n",
    "- Dynamic data typing (i.e. data type of a variable CAN change on the fly)\n",
    "- Can be used for procedural programming, functional programming, or object-oriented programming\n",
    "- Unlike C++, Java, etc., Python relies on *whitespace indentation* to indicate loop code, function code, etc.\n",
    "- Emphasizes readability above all else"
   ]
  },
  {
   "cell_type": "markdown",
   "id": "b5873ea2",
   "metadata": {},
   "source": [
    "## Anaconda\n",
    "\n",
    "Link to Anaconda distribution install guide: https://docs.anaconda.com/free/anaconda/install/index.html\n",
    "\n",
    "Anaconda is an environment manager which allows for multiple Python installations to remain sandboxed from each other. For example, I have Python 2.x and Python 3.x installs on my desktop. If these weren't kept separate, I would run into endless errors! If you're new to Python, the base (default) environment is all you need for now, so I won't get into environments.\n",
    "\n",
    "**Your Turn:** If you haven't already installed Anaconda on your device, please do so now if you wish to follow along.\n",
    "\n",
    "If you installed Anaconda correctly, the next time you open the Terminal (or Powershell/Command Prompt if you're on Windows), you should see \"(base)\" at the start of the line containing the working directory. This means the base environment is loaded, so you can start using Jupyter or you can run Python scripts directly from the terminal.\n",
    "\n",
    "To run Jupyter Notebook, open the Terminal, navigate to the directory where your files are located, type \"jupyter notebook\", then press Enter. In Windows, there is also a shortcut in the Start Menu."
   ]
  },
  {
   "cell_type": "markdown",
   "id": "977fecb2",
   "metadata": {},
   "source": [
    "## Tutorial for Jupyter Notebook Interface"
   ]
  },
  {
   "cell_type": "markdown",
   "id": "6588bde6",
   "metadata": {},
   "source": [
    "- If you've ever used Mathematica notebooks, these are fairly similar.\n",
    "- Each notebook is comprised of *cells*, blocks used for Python code or markdown (formatted text blocks).\n",
    "- To edit a markdown block, double-click it. This will disable the nice formatting to let you edit the text.\n",
    "- When finished, *run* the cell. To run a cell, click on the cell once, then either click the \"Run\" button on the toolbar, or use the keyboard shortcut Shift+Enter.\n",
    "\n",
    "**Your Turn:** The following cell contains many examples of common formatting you may wish to use when writing assignments or demo notebooks for your students. Try \"running\" the cell."
   ]
  },
  {
   "cell_type": "markdown",
   "id": "4f485531",
   "metadata": {},
   "source": [
    "# Heading-sized lines begin with a single #.\n",
    "## Here's a slightly smaller size.\n",
    "### This size is ideal for problem numbering on an assignment.\n",
    "#### This could work for labeling a Part A, Part B, etc.\n",
    "\n",
    "**boldface**\n",
    "\n",
    "*italicized*\n",
    "\n",
    "$y'' = 3y + y'$ (Even LaTeX is supported!)\n",
    "\n",
    "Hyperlinks work too: https://www.math.tamu.edu"
   ]
  },
  {
   "cell_type": "markdown",
   "id": "a09ac6d2",
   "metadata": {},
   "source": [
    "#### Continued\n",
    "\n",
    "Running *code* in a notebook is done either all at once, in cell order, or one at a time.\n",
    "\n",
    "To run cells all at once: click on the double-arrow icon in the toolbar, then \"Restart and Run All Cells\" in the pop-up that appears.\n",
    "\n",
    "To run cells one at a time: just like markdown blocks, click on the cell, then run using the toolbar or Shift+Enter.\n",
    "\n",
    "**Your Turn:** Below, I've written a sample script in SymPy. Run it."
   ]
  },
  {
   "cell_type": "code",
   "execution_count": 7,
   "id": "92952f38",
   "metadata": {},
   "outputs": [
    {
     "name": "stdout",
     "output_type": "stream",
     "text": [
      "log(7) + 175\n"
     ]
    },
    {
     "data": {
      "text/latex": [
       "$\\displaystyle 6 x + 4 + \\frac{1}{x}$"
      ],
      "text/plain": [
       "6*x + 4 + 1/x"
      ]
     },
     "execution_count": 7,
     "metadata": {},
     "output_type": "execute_result"
    }
   ],
   "source": [
    "import sympy as sp\n",
    "\n",
    "x = sp.symbols('x')\n",
    "\n",
    "y = 3*x**2 + 4*x + sp.log(x)\n",
    "\n",
    "print(y.subs(x,7))\n",
    "\n",
    "sp.diff(y,x)"
   ]
  },
  {
   "cell_type": "markdown",
   "id": "d19dc724",
   "metadata": {},
   "source": [
    "The output is displayed below the cell that produced it (similar to a Mathematica notebook). Note that I only had to use a print statement for the first line of output, but not the second. Jupyter will automatically display the last line of code in the block *that has an output*, but for any other line that gives output, you'll need to use a *print statement*.\n",
    "\n",
    "Next, similar to MATLAB or R, variables are stored in RAM until the session is closed. This means you can run one cell of your code and any results stored in variables will still be there, ready for the next cell.\n",
    "\n",
    "**Your Turn:** This cell depends on the results from the previous cell. Run it now."
   ]
  },
  {
   "cell_type": "code",
   "execution_count": 8,
   "id": "83d8707c",
   "metadata": {},
   "outputs": [
    {
     "data": {
      "text/latex": [
       "$\\displaystyle x^{3} + 2 x^{2} + x \\log{\\left(x \\right)} - x$"
      ],
      "text/plain": [
       "x**3 + 2*x**2 + x*log(x) - x"
      ]
     },
     "execution_count": 8,
     "metadata": {},
     "output_type": "execute_result"
    }
   ],
   "source": [
    "sp.integrate(y,x)"
   ]
  },
  {
   "cell_type": "markdown",
   "id": "1411fb38",
   "metadata": {},
   "source": [
    "To clear one variable from RAM, run a cell block containing \"del VariableName\"\n",
    "\n",
    "To clear all variables from RAM, click the circular arrow icon in the toolbar (this restarts the Python kernel, which includes flushing the RAM used).\n",
    "\n",
    "**Your Turn:** Run the cell below to delete $y$. Then rerun the cell above to confirm that $y$ has been deleted."
   ]
  },
  {
   "cell_type": "code",
   "execution_count": 5,
   "id": "e348aebc",
   "metadata": {},
   "outputs": [],
   "source": [
    "del y"
   ]
  },
  {
   "cell_type": "markdown",
   "id": "7592c960",
   "metadata": {},
   "source": [
    "## Packages\n",
    "\n",
    "A *package* is a library of commands that do not come with the basic installation of Python. Commands such as **sqrt** (square root) have to be imported from a package in order to use them.\n",
    "\n",
    "**Your Turn:** The following code block contains import statements. Run it to load the SymPy and Math packages into memory. I've also included examples on how to use commands from a specific package."
   ]
  },
  {
   "cell_type": "code",
   "execution_count": 10,
   "id": "4809d3f8",
   "metadata": {},
   "outputs": [
    {
     "name": "stdout",
     "output_type": "stream",
     "text": [
      "3.0\n",
      "3\n"
     ]
    }
   ],
   "source": [
    "import sympy as sp\n",
    "import math\n",
    "\n",
    "print(math.sqrt(9))\n",
    "print(sp.sqrt(9))"
   ]
  },
  {
   "cell_type": "markdown",
   "id": "08599c13",
   "metadata": {},
   "source": [
    "Notice that I didn't write \"sympy.sqrt(9)\". When you import a package \"as\" (blank), you can use (blank) in place of the full package name. It is common practice to import SymPy as **sp**, NumPy as **np**, Tensorflow as **tf**, etc.\n",
    "\n",
    "**Note:** Beginning a command with \"packageName.command\" is mandatory in Python, even if the command's name is only used in one package. To override this, import the package **as \\***. This will allow you to use a command's name without typing \"packageName.\" before it. However, this isn't good programming practice, as many packages share command names with commands in basic Python and with each other. Don't do this if you want to maintain strict control over which version of a command you want to use."
   ]
  },
  {
   "cell_type": "markdown",
   "id": "197a2e27",
   "metadata": {},
   "source": [
    "## Overview of Packages Covered in this Workshop\n",
    "\n",
    "Disclaimer: The lists of commands and data types given below are by no means comprehensive.\n",
    "\n",
    "### Basic Python\n",
    "\n",
    "Contains many data types that will be commonly used in any script you write, such as\n",
    "- **int**: integer.\n",
    "- **float**: decimal number.\n",
    "- **string**: string of characters.\n",
    "- **list**: Python's version of an array. Note it can contain different types of data which makes it inefficient to loop through.\n",
    "- **dictionary**: a list, but the index can be a string or another data type altogether.\n",
    "\n",
    "Contains many commands that will be commonly used as well, such as\n",
    "- **for, while, if, then, elif, else**: script flow control commands.\n",
    "- **print**: sends output to the screen.\n",
    "- **del**: deletes a variable.\n",
    "- **Basic arithmetic**: add, subtract, multiply, divide, modulus, floor division.\n",
    "- **Basic file input/output**: read, write, seek (if messing with raw binary files).\n",
    "\n",
    "### NumPy\n",
    "\n",
    "Originally written to provide more efficient data types and operations than the ones in basic Python. Also includes a wealth of numerical mathematics functions.\n",
    "\n",
    "Commonly used data types:\n",
    "- **NumPy arrays**: meant to be \"C++\"-style, where all the data must be of the same type, for more streamlined looping and processing. Very popular in data science.\n",
    "- **NumPy strings**: the main differences between these and basic Python strings are under the hood.\n",
    "\n",
    "Commonly used commands:\n",
    "- **Vectorized arithmetic**: you can apply arithmetic to NumPy array(s) directly instead of looping term-by-term. Under the hood, this is well-optimized.\n",
    "- **Numerical math functions**: sqrt, sin, cos, tan, log, etc. Also vectorized, so for instance np.sqrt(A) would return an array whose components are the respective square roots!\n",
    "- **Vectorized string operations**: len, lstrip, rstrip, etc. Useful if you have a long list of strings to format.\n",
    "- **File input and output**: needed to read/write NumPy arrays to/from files.\n",
    "\n",
    "### Matplotlib\n",
    "\n",
    "Some folks were big fans of MATLAB's way of making plots, so they wrote Matplotlib in the 1990s to replicate it in Python. The Seaborn package (not covered here) is an extension of Matplotlib meant to make the plots look more modern. Plays very well with NumPy, but not so much with SymPy.\n",
    "\n",
    "Commonly used data types:\n",
    "- **figure**: a canvas one can draw on.\n",
    "\n",
    "Commonly used commands:\n",
    "- **plot**: plots tuples of numbers (for a scatterplot, a discretized function, etc.) onto a figure.\n",
    "- **extend**: allows you to copy the contents of one figure into another (useful for plotting multiple functions on a shared graph).\n",
    "- **show**: setting \"show = False\" when using \"plot\" will suppress a plot. When ready, use \"show\" (as a command) to display the plot.\n",
    "\n",
    "### SymPy\n",
    "\n",
    "Python's answer to MATLAB's Symbolic Toolbox or Mathematica. Contains a special **symbol** data type to store symbolic expressions, along with a trove of specially designed mathematics functions to manipulate them.\n",
    "\n",
    "Commonly used data types:\n",
    "- **Symbolic expressions**: these can be a single variable or an expression dependent on one or more variables. When defining variables, you have the ability to restrict the domain (for example, setting \"positive = True\").\n",
    "\n",
    "Commonly used commands:\n",
    "- **sp.symbols**: The starting point for anything SymPy. Make your variables and assumptions on them here.\n",
    "- **Basic arithmetic**: for symbolic expressions, though they can still be used on standard numerical data types.\n",
    "- **Math functions**: symbolic versions of sqrt, sin, cos, tan, etc., equipped to handle either numbers OR symbolic expressions.\n",
    "- **plot, plot_parametric**: creates a plot for a symbolic function or a symbolic parametric curve. Matplotlib *cannot* handle symbolic expressions directly, unless you discretize the function into scatterplot lists for $x$ and $y$ first."
   ]
  },
  {
   "cell_type": "markdown",
   "id": "f2df73e7",
   "metadata": {},
   "source": [
    "## Help Resources\n",
    "\n",
    "- The TAMU Math Learning Center has videos on Python commands used in the engineering courses here: https://vmlc.tamu.edu/Virtual-Math-Learning-Center/Supplemental-Material/Python-mini-course\n",
    "- The NumPy documentation is well-written and organized. I never leave home without it. https://numpy.org/doc/stable/\n",
    "- The SymPy documentation is thorough, but not as organized as NumPy's docs. I recommend only after going through this workshop. https://docs.sympy.org/latest/index.html\n",
    "- The Matplotlib documentation has many examples. https://matplotlib.org/\n",
    "- TutorialsPoint is a website I found useful when learning various packages in Python. Here's their pages on SymPy but I also recommend their NumPy ones. Also, their python drawing is cute- you can't go wrong with that. https://www.tutorialspoint.com/sympy/index.htm\n",
    "- W3Schools is another fantastic tutorial website. They write theirs in the style of these notebooks- with plenty of \"try it yourself\" interactive cells. Here's their NumPy pages (python drawing not included, sadly). https://www.w3schools.com/python/numpy/default.asp"
   ]
  },
  {
   "cell_type": "code",
   "execution_count": null,
   "id": "69a670f1",
   "metadata": {},
   "outputs": [],
   "source": []
  }
 ],
 "metadata": {
  "kernelspec": {
   "display_name": "Python 3 (ipykernel)",
   "language": "python",
   "name": "python3"
  },
  "language_info": {
   "codemirror_mode": {
    "name": "ipython",
    "version": 3
   },
   "file_extension": ".py",
   "mimetype": "text/x-python",
   "name": "python",
   "nbconvert_exporter": "python",
   "pygments_lexer": "ipython3",
   "version": "3.9.16"
  }
 },
 "nbformat": 4,
 "nbformat_minor": 5
}
